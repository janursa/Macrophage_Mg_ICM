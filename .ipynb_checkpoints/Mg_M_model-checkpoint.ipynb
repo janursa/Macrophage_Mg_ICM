{
 "cells": [
  {
   "cell_type": "code",
   "execution_count": 1,
   "metadata": {},
   "outputs": [],
   "source": [
    "# default inputs\n",
    "import tellurium as te\n",
    "import matplotlib.pyplot as plt\n",
    "%config Completer.use_jedi = False\n",
    "showOriginalModelString = True"
   ]
  },
  {
   "cell_type": "code",
   "execution_count": 2,
   "metadata": {},
   "outputs": [],
   "source": [
    "if showOriginalModelString:\n",
    "    model = te.loadSBMLModel(\"Mg_M.xml\")\n",
    "    modelStr = model.getAntimony()\n",
    "#     print(modelStr)\n",
    "    "
   ]
  },
  {
   "cell_type": "code",
   "execution_count": 3,
   "metadata": {},
   "outputs": [],
   "source": [
    "def run(model,selections, duration):\n",
    "    model.integrator.absolute_tolerance = 1e-9\n",
    "    model.integrator.relatice_tolerance = 1e-9\n",
    "    results = model.simulate(start = 0, end = duration,steps = duration,\n",
    "                             selections = selections)\n",
    "    return results\n",
    "def modify(modelStr,replacements):\n",
    "    for key,value in replacements.items():\n",
    "        modelStr = modelStr.replace(key,value)\n",
    "    return modelStr\n",
    "def merge(modelStr,sub_model):\n",
    "    rr = modelStr.split('\\nend\\n\\npad_mac')\n",
    "    combined = rr[0]+sub_model+'\\nend\\n\\npad_mac is \"pad mac\"\\n'\n",
    "    return combined"
   ]
  },
  {
   "cell_type": "code",
   "execution_count": 4,
   "metadata": {},
   "outputs": [
    {
     "ename": "RuntimeError",
     "evalue": "Global parameter 'k309' is missing a value.  While roadrunner gives species a default value of zero, and compartments a default value of one, it requires parameters to be initialized.  Set one by giving it a value, initial assignment, or an assignment rule.",
     "output_type": "error",
     "traceback": [
      "\u001b[0;31m---------------------------------------------------------------------------\u001b[0m",
      "\u001b[0;31mRuntimeError\u001b[0m                              Traceback (most recent call last)",
      "\u001b[0;32m<ipython-input-4-197e844f3bc9>\u001b[0m in \u001b[0;36m<module>\u001b[0;34m\u001b[0m\n\u001b[1;32m     27\u001b[0m \u001b[0mmodified_model\u001b[0m \u001b[0;34m=\u001b[0m \u001b[0mmodify\u001b[0m\u001b[0;34m(\u001b[0m\u001b[0moriginalModelStr\u001b[0m\u001b[0;34m,\u001b[0m\u001b[0mreplacements\u001b[0m\u001b[0;34m)\u001b[0m\u001b[0;34m\u001b[0m\u001b[0;34m\u001b[0m\u001b[0m\n\u001b[1;32m     28\u001b[0m \u001b[0mcombined\u001b[0m \u001b[0;34m=\u001b[0m \u001b[0mmerge\u001b[0m\u001b[0;34m(\u001b[0m\u001b[0mmodified_model\u001b[0m\u001b[0;34m,\u001b[0m\u001b[0mextra_additions\u001b[0m\u001b[0;34m)\u001b[0m\u001b[0;34m\u001b[0m\u001b[0;34m\u001b[0m\u001b[0m\n\u001b[0;32m---> 29\u001b[0;31m \u001b[0mcombined\u001b[0m \u001b[0;34m=\u001b[0m \u001b[0mte\u001b[0m\u001b[0;34m.\u001b[0m\u001b[0mloada\u001b[0m\u001b[0;34m(\u001b[0m\u001b[0mcombined\u001b[0m\u001b[0;34m)\u001b[0m\u001b[0;34m\u001b[0m\u001b[0;34m\u001b[0m\u001b[0m\n\u001b[0m\u001b[1;32m     30\u001b[0m \u001b[0mcombined\u001b[0m\u001b[0;34m.\u001b[0m\u001b[0mexportToSBML\u001b[0m\u001b[0;34m(\u001b[0m\u001b[0;34m'Mg_M.xml'\u001b[0m\u001b[0;34m)\u001b[0m\u001b[0;34m\u001b[0m\u001b[0;34m\u001b[0m\u001b[0m\n",
      "\u001b[0;32m~/miniconda3/envs/v37_conda/lib/python3.7/site-packages/tellurium/tellurium.py\u001b[0m in \u001b[0;36mloada\u001b[0;34m(ant)\u001b[0m\n\u001b[1;32m    517\u001b[0m     \u001b[0;34m:\u001b[0m\u001b[0mrtype\u001b[0m\u001b[0;34m:\u001b[0m \u001b[0mroadrunner\u001b[0m\u001b[0;34m.\u001b[0m\u001b[0mExtendedRoadRunner\u001b[0m\u001b[0;34m\u001b[0m\u001b[0;34m\u001b[0m\u001b[0m\n\u001b[1;32m    518\u001b[0m     \"\"\"\n\u001b[0;32m--> 519\u001b[0;31m     \u001b[0;32mreturn\u001b[0m \u001b[0mloadAntimonyModel\u001b[0m\u001b[0;34m(\u001b[0m\u001b[0mant\u001b[0m\u001b[0;34m)\u001b[0m\u001b[0;34m\u001b[0m\u001b[0;34m\u001b[0m\u001b[0m\n\u001b[0m\u001b[1;32m    520\u001b[0m \u001b[0;34m\u001b[0m\u001b[0m\n\u001b[1;32m    521\u001b[0m \u001b[0;34m\u001b[0m\u001b[0m\n",
      "\u001b[0;32m~/miniconda3/envs/v37_conda/lib/python3.7/site-packages/tellurium/tellurium.py\u001b[0m in \u001b[0;36mloadAntimonyModel\u001b[0;34m(ant)\u001b[0m\n\u001b[1;32m    534\u001b[0m     \"\"\"\n\u001b[1;32m    535\u001b[0m     \u001b[0msbml\u001b[0m \u001b[0;34m=\u001b[0m \u001b[0mantimonyToSBML\u001b[0m\u001b[0;34m(\u001b[0m\u001b[0mant\u001b[0m\u001b[0;34m)\u001b[0m\u001b[0;34m\u001b[0m\u001b[0;34m\u001b[0m\u001b[0m\n\u001b[0;32m--> 536\u001b[0;31m     \u001b[0;32mreturn\u001b[0m \u001b[0mroadrunner\u001b[0m\u001b[0;34m.\u001b[0m\u001b[0mRoadRunner\u001b[0m\u001b[0;34m(\u001b[0m\u001b[0msbml\u001b[0m\u001b[0;34m)\u001b[0m\u001b[0;34m\u001b[0m\u001b[0;34m\u001b[0m\u001b[0m\n\u001b[0m\u001b[1;32m    537\u001b[0m \u001b[0;34m\u001b[0m\u001b[0m\n\u001b[1;32m    538\u001b[0m \u001b[0;34m\u001b[0m\u001b[0m\n",
      "\u001b[0;32m~/miniconda3/envs/v37_conda/lib/python3.7/site-packages/tellurium/roadrunner/extended_roadrunner.py\u001b[0m in \u001b[0;36m__init__\u001b[0;34m(self, *args, **kwargs)\u001b[0m\n\u001b[1;32m     14\u001b[0m \u001b[0;34m\u001b[0m\u001b[0m\n\u001b[1;32m     15\u001b[0m     \u001b[0;32mdef\u001b[0m \u001b[0m__init__\u001b[0m\u001b[0;34m(\u001b[0m\u001b[0mself\u001b[0m\u001b[0;34m,\u001b[0m \u001b[0;34m*\u001b[0m\u001b[0margs\u001b[0m\u001b[0;34m,\u001b[0m \u001b[0;34m**\u001b[0m\u001b[0mkwargs\u001b[0m\u001b[0;34m)\u001b[0m\u001b[0;34m:\u001b[0m\u001b[0;34m\u001b[0m\u001b[0;34m\u001b[0m\u001b[0m\n\u001b[0;32m---> 16\u001b[0;31m         \u001b[0msuper\u001b[0m\u001b[0;34m(\u001b[0m\u001b[0mExtendedRoadRunner\u001b[0m\u001b[0;34m,\u001b[0m \u001b[0mself\u001b[0m\u001b[0;34m)\u001b[0m\u001b[0;34m.\u001b[0m\u001b[0m__init__\u001b[0m\u001b[0;34m(\u001b[0m\u001b[0;34m*\u001b[0m\u001b[0margs\u001b[0m\u001b[0;34m,\u001b[0m \u001b[0;34m**\u001b[0m\u001b[0mkwargs\u001b[0m\u001b[0;34m)\u001b[0m\u001b[0;34m\u001b[0m\u001b[0;34m\u001b[0m\u001b[0m\n\u001b[0m\u001b[1;32m     17\u001b[0m \u001b[0;34m\u001b[0m\u001b[0m\n\u001b[1;32m     18\u001b[0m     \u001b[0;31m# ---------------------------------------------------------------------\u001b[0m\u001b[0;34m\u001b[0m\u001b[0;34m\u001b[0m\u001b[0;34m\u001b[0m\u001b[0m\n",
      "\u001b[0;32m~/miniconda3/envs/v37_conda/lib/python3.7/site-packages/roadrunner/roadrunner.py\u001b[0m in \u001b[0;36m_new_init\u001b[0;34m(self, *args)\u001b[0m\n\u001b[1;32m   3773\u001b[0m                 \u001b[0;32mreturn\u001b[0m\u001b[0;34m\u001b[0m\u001b[0;34m\u001b[0m\u001b[0m\n\u001b[1;32m   3774\u001b[0m     \u001b[0;31m# Otherwise, use regular init\u001b[0m\u001b[0;34m\u001b[0m\u001b[0;34m\u001b[0m\u001b[0;34m\u001b[0m\u001b[0m\n\u001b[0;32m-> 3775\u001b[0;31m         \u001b[0mRoadRunner\u001b[0m\u001b[0;34m.\u001b[0m\u001b[0m_swig_init\u001b[0m\u001b[0;34m(\u001b[0m\u001b[0mself\u001b[0m\u001b[0;34m,\u001b[0m \u001b[0;34m*\u001b[0m\u001b[0margs\u001b[0m\u001b[0;34m)\u001b[0m\u001b[0;34m\u001b[0m\u001b[0;34m\u001b[0m\u001b[0m\n\u001b[0m\u001b[1;32m   3776\u001b[0m         \u001b[0mRoadRunner\u001b[0m\u001b[0;34m.\u001b[0m\u001b[0m_makeProperties\u001b[0m\u001b[0;34m(\u001b[0m\u001b[0mself\u001b[0m\u001b[0;34m)\u001b[0m\u001b[0;34m\u001b[0m\u001b[0;34m\u001b[0m\u001b[0m\n\u001b[1;32m   3777\u001b[0m \u001b[0;34m\u001b[0m\u001b[0m\n",
      "\u001b[0;32m~/miniconda3/envs/v37_conda/lib/python3.7/site-packages/roadrunner/roadrunner.py\u001b[0m in \u001b[0;36m__init__\u001b[0;34m(self, *args)\u001b[0m\n\u001b[1;32m   2520\u001b[0m \u001b[0;34m\u001b[0m\u001b[0m\n\u001b[1;32m   2521\u001b[0m     \u001b[0;32mdef\u001b[0m \u001b[0m__init__\u001b[0m\u001b[0;34m(\u001b[0m\u001b[0mself\u001b[0m\u001b[0;34m,\u001b[0m \u001b[0;34m*\u001b[0m\u001b[0margs\u001b[0m\u001b[0;34m)\u001b[0m\u001b[0;34m:\u001b[0m\u001b[0;34m\u001b[0m\u001b[0;34m\u001b[0m\u001b[0m\n\u001b[0;32m-> 2522\u001b[0;31m         \u001b[0mthis\u001b[0m \u001b[0;34m=\u001b[0m \u001b[0m_roadrunner\u001b[0m\u001b[0;34m.\u001b[0m\u001b[0mnew_RoadRunner\u001b[0m\u001b[0;34m(\u001b[0m\u001b[0;34m*\u001b[0m\u001b[0margs\u001b[0m\u001b[0;34m)\u001b[0m\u001b[0;34m\u001b[0m\u001b[0;34m\u001b[0m\u001b[0m\n\u001b[0m\u001b[1;32m   2523\u001b[0m         \u001b[0;32mtry\u001b[0m\u001b[0;34m:\u001b[0m\u001b[0;34m\u001b[0m\u001b[0;34m\u001b[0m\u001b[0m\n\u001b[1;32m   2524\u001b[0m             \u001b[0mself\u001b[0m\u001b[0;34m.\u001b[0m\u001b[0mthis\u001b[0m\u001b[0;34m.\u001b[0m\u001b[0mappend\u001b[0m\u001b[0;34m(\u001b[0m\u001b[0mthis\u001b[0m\u001b[0;34m)\u001b[0m\u001b[0;34m\u001b[0m\u001b[0;34m\u001b[0m\u001b[0m\n",
      "\u001b[0;31mRuntimeError\u001b[0m: Global parameter 'k309' is missing a value.  While roadrunner gives species a default value of zero, and compartments a default value of one, it requires parameters to be initialized.  Set one by giving it a value, initial assignment, or an assignment rule."
     ]
    }
   ],
   "source": [
    "# replacements = {\n",
    "#     '$ikk_prod => IKK; k191*ikk_prod':'NEMO_IKK + Mg => Mg_NEMO + IKK; k302*Mg*NEMO_IKK - k303*IKK - k304*Mg_NEMO',\n",
    "#     'IKK + pTAK1 => pIKK + pTAK1; k189*IKK*pTAK1^2': 'IKK + pTAK1 => pIKK + pTAK1; k305*IKK*pTAK1^2',\n",
    "#     'IKK + O2_aPHD => deg + O2_aPHD;  k192*IKK*O2_aPHD^2': 'IKK + O2_aPHD => deg + O2_aPHD; k306*IKK*O2_aPHD^2',\n",
    "#     'pIKK => IKK; k190*pIKK': 'pIKK => IKK; k307*pIKK'\n",
    "# }\n",
    "replacements = {\n",
    "    '$ikk_prod => IKK; k191*ikk_prod':'NEMO_IKK + Mg => Mg_NEMO + IKK; k302*Mg*NEMO_IKK- k303*IKK - k304*Mg_NEMO'\n",
    "}\n",
    "\n",
    "extra_additions = \"\"\"\n",
    "    Mg_e_mM = 0.8; #mM\n",
    "    Mg_e = Mg_e_mM*Mg_copy;\n",
    "    Mg = Mg_e ; # internal/physiological Mg\n",
    "    $Mg_e -> Mg; k301*(Mg_e - Mg) ; # Mg diffuses from extra- to intracellular space through345 TRPM7  \n",
    "    NEMO_IKK_prod = 1;\n",
    "    $NEMO_IKK_prod => NEMO_IKK; k308; \n",
    "    Mg_NEMO = 1000;\n",
    "    Mg_NEMO -> deg; k309*Mg_NEMO;\n",
    "    NEMO_IKK = 1000;\n",
    "    Mg_copy = 1000;\n",
    "    k301 = 100; k302=100; k303 = 100; k304=100;k308=100;k309=100;\n",
    "    \n",
    "\"\"\"\n",
    "originalModel = te.loadSBMLModel(\"Zhao_2021.xml\")\n",
    "originalModelStr = originalModel.getAntimony ()\n",
    "modified_model = modify(originalModelStr,replacements)\n",
    "combined = merge(modified_model,extra_additions)\n",
    "combined = te.loada(combined)\n",
    "combined.exportToSBML('Mg_M.xml')\n"
   ]
  },
  {
   "cell_type": "code",
   "execution_count": null,
   "metadata": {},
   "outputs": [],
   "source": [
    "def initial_conditions(model,keys,values):\n",
    "    for i in range(len(keys)):\n",
    "        free_param_name = keys[i]\n",
    "        model[free_param_name] = values[i]\n",
    "\n",
    "def run(model,targets, duration):\n",
    "    model.integrator.absolute_tolerance = 1e-9\n",
    "    model.integrator.relatice_tolerance = 1e-9\n",
    "    results = model.simulate(start = 0, end = duration,steps = duration,\n",
    "                             selections = targets)\n",
    "    return results\n",
    "targets = ['IKK']\n",
    "model = combined\n",
    "model.reset()\n",
    "initial_conditions(model,['k301','k302','Mg_e','NEMO_IKK'],[100,100,600,600])\n",
    "results = run(model,targets,1500)\n",
    "for tag in targets:\n",
    "    fig = plt.figure()\n",
    "    plt.plot(results[tag],label = 'Mg',linestyle = '--')\n",
    "    plt.legend()\n",
    "    plt.title(tag)"
   ]
  },
  {
   "cell_type": "code",
   "execution_count": null,
   "metadata": {},
   "outputs": [],
   "source": [
    "test = \"\"\"\n",
    "    Mg = 0.8 ; # internal/physiological Mg\n",
    "    x= 1000\n",
    "    x+mg->y; 100*x*y\n",
    "    \n",
    "\"\"\"\n",
    "testModel = te.loada(test)\n",
    "targets = ['mg','x','y']\n",
    "results = testModel.simulate(0,100,100,selections = ['TIME']+targets)\n",
    "for tag in targets:\n",
    "    fig = plt.figure()\n",
    "    plt.plot(results[tag],label = 'Mg',linestyle = '--')\n",
    "    plt.legend()\n",
    "    plt.title(tag)"
   ]
  }
 ],
 "metadata": {
  "kernelspec": {
   "display_name": "Python [conda env:v37_conda] *",
   "language": "python",
   "name": "conda-env-v37_conda-py"
  },
  "language_info": {
   "codemirror_mode": {
    "name": "ipython",
    "version": 3
   },
   "file_extension": ".py",
   "mimetype": "text/x-python",
   "name": "python",
   "nbconvert_exporter": "python",
   "pygments_lexer": "ipython3",
   "version": "3.7.9"
  }
 },
 "nbformat": 4,
 "nbformat_minor": 4
}
