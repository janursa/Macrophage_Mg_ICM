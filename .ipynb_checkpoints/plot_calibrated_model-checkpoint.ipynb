{
 "cells": [
  {
   "cell_type": "code",
   "execution_count": 1,
   "metadata": {},
   "outputs": [
    {
     "name": "stdout",
     "output_type": "stream",
     "text": [
      "{'k301_1': [0, 1], 'k301_2': [0, 1], 'k302': [0, 1], 'k303': [0, 1], 'k304': [0, 1], 'k308': [0, 1000], 'k309': [0, 1], 'k310': [0, 10], 'Mg_NEMO': [0, 10000], 'Mg_copy': [0, 10000], 'NEMO_IKK': [0, 10000], 'k311': [0, 1], 'TRPM': [0, 10000]}\n",
      "Mg 800.0 Mg_e 800.0\n"
     ]
    }
   ],
   "source": [
    "from scipy.optimize import differential_evolution\n",
    "import numpy as np\n",
    "import json\n",
    "import matplotlib.pyplot as plt\n",
    "plt.rcParams[\"font.family\"] = \"serif\"\n",
    "plt.style.use('seaborn-deep')\n",
    "plt.rcParams[\"font.serif\"] = [\"Times New Roman\"] + plt.rcParams[\"font.serif\"]\n",
    "from models import PARAMS, Zhao_2021, Mg_M, run, initial_conditions, reset\n",
    "from calibration import cost_function_study\n",
    "print('Mg {} Mg_e {}'.format(Mg_M['Mg_e'],Mg_M['Mg']))\n",
    "%config Completer.use_jedi = False\n",
    "showOriginalModelString = True\n",
    "# load the samples from the original model\n",
    "from observations import observations\n",
    "class GSs:\n",
    "    graph_size = [5,5]\n",
    "    colors = ['lime' , 'violet', 'yellowgreen', 'peru', 'skyblue']\n",
    "    legend_font_size = 30\n",
    "    tick_font_size = 30\n",
    "    title_font_size = 30\n",
    "#// read the inferred values and divide it to the given groups \n",
    "with open('inferred_params.json') as file:\n",
    "    inferred_params = json.load(file)\n",
    "# inferred_params['k301_1']=.2\n",
    "inferred_params_model = {}\n",
    "hyperparams = {}\n",
    "for key in PARAMS.free_params_model.keys():\n",
    "    inferred_params_model[key] = inferred_params[key]\n",
    "for key in PARAMS.hyperparams.keys():\n",
    "    hyperparams[key] = inferred_params[key]"
   ]
  },
  {
   "cell_type": "code",
   "execution_count": 3,
   "metadata": {},
   "outputs": [
    {
     "ename": "NameError",
     "evalue": "name 'ID_observations' is not defined",
     "output_type": "error",
     "traceback": [
      "\u001b[0;31m---------------------------------------------------------------------------\u001b[0m",
      "\u001b[0;31mNameError\u001b[0m                                 Traceback (most recent call last)",
      "\u001b[0;32m<ipython-input-3-4f14fac4be8a>\u001b[0m in \u001b[0;36m<module>\u001b[0;34m\u001b[0m\n\u001b[1;32m     14\u001b[0m     \u001b[0m_\u001b[0m\u001b[0;34m,\u001b[0m \u001b[0mIDs_results\u001b[0m \u001b[0;34m=\u001b[0m \u001b[0mcost_function_study\u001b[0m\u001b[0;34m(\u001b[0m\u001b[0mstudy\u001b[0m\u001b[0;34m=\u001b[0m\u001b[0mstudy\u001b[0m\u001b[0;34m,\u001b[0m\u001b[0mfree_params_model\u001b[0m\u001b[0;34m=\u001b[0m\u001b[0minferred_params_model\u001b[0m\u001b[0;34m,\u001b[0m\u001b[0mhyperparams\u001b[0m\u001b[0;34m=\u001b[0m\u001b[0mhyperparams\u001b[0m\u001b[0;34m)\u001b[0m\u001b[0;34m\u001b[0m\u001b[0;34m\u001b[0m\u001b[0m\n\u001b[1;32m     15\u001b[0m     \u001b[0;32mfor\u001b[0m \u001b[0mID\u001b[0m\u001b[0;34m,\u001b[0m \u001b[0mID_results\u001b[0m \u001b[0;32min\u001b[0m \u001b[0mIDs_results\u001b[0m\u001b[0;34m.\u001b[0m\u001b[0mitems\u001b[0m\u001b[0;34m(\u001b[0m\u001b[0;34m)\u001b[0m\u001b[0;34m:\u001b[0m\u001b[0;34m\u001b[0m\u001b[0;34m\u001b[0m\u001b[0m\n\u001b[0;32m---> 16\u001b[0;31m         \u001b[0;32mfor\u001b[0m \u001b[0mkey\u001b[0m \u001b[0;32min\u001b[0m \u001b[0mID_observations\u001b[0m\u001b[0;34m.\u001b[0m\u001b[0mkeys\u001b[0m\u001b[0;34m(\u001b[0m\u001b[0;34m)\u001b[0m\u001b[0;34m:\u001b[0m\u001b[0;34m\u001b[0m\u001b[0;34m\u001b[0m\u001b[0m\n\u001b[0m\u001b[1;32m     17\u001b[0m             \u001b[0mexp\u001b[0m \u001b[0;34m=\u001b[0m \u001b[0mID_observations\u001b[0m\u001b[0;34m[\u001b[0m\u001b[0mkey\u001b[0m\u001b[0;34m]\u001b[0m\u001b[0;34m[\u001b[0m\u001b[0;34m'mean'\u001b[0m\u001b[0;34m]\u001b[0m \u001b[0;31m# the whole array\u001b[0m\u001b[0;34m\u001b[0m\u001b[0;34m\u001b[0m\u001b[0m\n\u001b[1;32m     18\u001b[0m \u001b[0;31m#             print(key,ID_observations[key])\u001b[0m\u001b[0;34m\u001b[0m\u001b[0;34m\u001b[0m\u001b[0;34m\u001b[0m\u001b[0m\n",
      "\u001b[0;31mNameError\u001b[0m: name 'ID_observations' is not defined"
     ]
    }
   ],
   "source": [
    "def reset(model,params = None): # resets the given model and also sets those that cannot be reset by default\n",
    "    model.reset()\n",
    "#     model['Mg_e_mM'] = 0.8\n",
    "    if params == None:\n",
    "        pass\n",
    "    else:\n",
    "        for key,value in params.items():\n",
    "            model[key] = value\n",
    "#// plot the simulation vs observations\n",
    "for study in observations['studies']:\n",
    "    study_observations = observations[study]\n",
    "    measurement_scheme = study_observations['measurement_scheme']\n",
    "    \n",
    "    _, IDs_results = cost_function_study(study=study,free_params_model=inferred_params_model,hyperparams=hyperparams)\n",
    "    for ID, ID_results in IDs_results.items():\n",
    "        ID_observations = study_observations[ID]\n",
    "        for key in ID_observations.keys():\n",
    "            exp = ID_observations[key]['mean'] # the whole array\n",
    "#             print(key,ID_observations[key])\n",
    "            sim = ID_results[key]\n",
    "            \n",
    "            fig = plt.figure(figsize=(GSs.graph_size[0],GSs.graph_size[1]))\n",
    "            fig.canvas.draw()\n",
    "            ax = fig.add_subplot(1, 1, 1)\n",
    "            ax.plot([i for i in measurement_scheme[key]],exp,label='exp',marker='*')\n",
    "            ax.plot(range(len(sim)),sim,label='Sim')\n",
    "            ax.legend(bbox_to_anchor=(2, 1),loc = 'upper right', borderaxespad=0.,prop={ 'family':'Times New Roman','size':GSs.legend_font_size},ncol=1)\n",
    "            ax.set_title(study+'_'+ID+'_'+key)\n",
    "            "
   ]
  },
  {
   "cell_type": "code",
   "execution_count": null,
   "metadata": {},
   "outputs": [],
   "source": [
    "if False:\n",
    "    #** plotting vs Zhao\n",
    "    #// update the Mg_M model by applying the inferred values\n",
    "    reset(Mg_M,inferred_params_model)\n",
    "    #// run the Mg_M model\n",
    "    selections = ['TIME']+PARAMS.targets\n",
    "    Mg_M_results = run(Mg_M,duration = PARAMS.duration,targets=selections)\n",
    "    #// run the original model \n",
    "    Zhao_2021.reset()\n",
    "    Zhao_results = run(Zhao_2021, duration =PARAMS.duration,targets=selections)\n",
    "    for target in PARAMS.targets:\n",
    "        fig = plt.figure(figsize=(GSs.graph_size[0],GSs.graph_size[1]))\n",
    "        fig.canvas.draw()\n",
    "        ax = fig.add_subplot(1, 1, 1)\n",
    "        ax.plot(Zhao_results['time'],Zhao_results[target],label='Zhao')\n",
    "        ax.plot(Mg_M_results['time'],Mg_M_results[target],label='Mg_M')\n",
    "        ax.legend(bbox_to_anchor=(2, 1),loc = 'upper right', borderaxespad=0.,prop={ 'family':'Times New Roman','size':GSs.legend_font_size},ncol=1)\n"
   ]
  }
 ],
 "metadata": {
  "kernelspec": {
   "display_name": "Python [conda env:v37_conda] *",
   "language": "python",
   "name": "conda-env-v37_conda-py"
  },
  "language_info": {
   "codemirror_mode": {
    "name": "ipython",
    "version": 3
   },
   "file_extension": ".py",
   "mimetype": "text/x-python",
   "name": "python",
   "nbconvert_exporter": "python",
   "pygments_lexer": "ipython3",
   "version": "3.7.9"
  }
 },
 "nbformat": 4,
 "nbformat_minor": 4
}
