{
 "cells": [
  {
   "cell_type": "code",
   "execution_count": 9,
   "metadata": {},
   "outputs": [],
   "source": [
    "import sys\n",
    "import pathlib\n",
    "import os\n",
    "import importlib\n",
    "# current_file = pathlib.Path(__file__).parent.absolute()\n",
    "current_file = '/Users/matin/Downloads/testProjs/intracellular_M'\n",
    "sys.path.insert(0,current_file)\n",
    "import json\n",
    "import plots\n",
    "import parameters\n",
    "import numpy as np \n",
    "importlib.reload(plots)\n",
    "importlib.reload(parameters)\n",
    "def results_file(study):\n",
    "\tfile = None\n",
    "\tif study == 'Qiao_2021_Mg':\n",
    "\t\tfile = 'inferred_params_0_200.json'\n",
    "\telif study == 'Ber_2016':\n",
    "\t\tfile = 'inferred_params_0_120.json'\n",
    "\telif study == 'Chen_2018':\n",
    "\t\tfile = 'inferred_params_0_200.json'\n",
    "\telif study == 'Valles_2020':\n",
    "\t\tfile = 'inferred_params_0_200.json'\n",
    "\telif study == 'Qiao_2021_ILs':\n",
    "\t\tfile = 'inferred_params_0_70.json'\n",
    "\telif study == 'All':\n",
    "\t\tfile = 'inferred_params_0_200.json'\n",
    "\t\t\n",
    "\treturn file\n",
    "\n",
    "class settings:\n",
    "\tstudy = 'Quao_2021_TRPM'\n",
    "\toutput_folder = os.path.join(current_file,'results',study)\n",
    "                                \n",
    "obs,_ = parameters.specifications(settings.study)\n",
    "\n",
    "simulation_results = {'Quao_2021_TRPM':{}}\n",
    "study_errors = {}\n",
    "processed_detailed_errors = {}\n",
    "\n",
    "for study in obs['studies']:\n",
    "    targets = list(obs[study]['measurement_scheme'].keys())\n",
    "#     study_error = rearrange_errors(study_errors[study],targets)\n",
    "    study_error = {}\n",
    "    if study == 'Quao_2021_TRPM' : # those with differet measurement dates\n",
    "            plot_obj = plots.Plot_bar_2(study=study,observations=obs,errors=study_error,destination = settings.output_folder)\n",
    "    else:\n",
    "            plot_obj = plots.Plot_bar(study=study,observations=obs,errors=study_error,destination = settings.output_folder)\n",
    "    plot_obj.plot(simulation_results = simulation_results[study],processed_detailed_errors=processed_detailed_errors[study])\n"
   ]
  }
 ],
 "metadata": {
  "kernelspec": {
   "display_name": "Python [conda env:v37_conda] *",
   "language": "python",
   "name": "conda-env-v37_conda-py"
  },
  "language_info": {
   "codemirror_mode": {
    "name": "ipython",
    "version": 3
   },
   "file_extension": ".py",
   "mimetype": "text/x-python",
   "name": "python",
   "nbconvert_exporter": "python",
   "pygments_lexer": "ipython3",
   "version": "3.7.9"
  }
 },
 "nbformat": 4,
 "nbformat_minor": 4
}
