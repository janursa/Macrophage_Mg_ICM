{
 "cells": [
  {
   "cell_type": "code",
   "execution_count": 1,
   "metadata": {},
   "outputs": [],
   "source": [
    "# default inputs\n",
    "import tellurium as te\n",
    "import matplotlib.pyplot as plt\n",
    "%config Completer.use_jedi = False\n",
    "showOriginalModelString = True"
   ]
  },
  {
   "cell_type": "code",
   "execution_count": 2,
   "metadata": {},
   "outputs": [],
   "source": [
    "if showOriginalModelString:\n",
    "    model = te.loadSBMLModel(\"Mg_M.xml\")\n",
    "    modelStr = model.getAntimony()\n",
    "#     print(modelStr)\n",
    "    "
   ]
  },
  {
   "cell_type": "code",
   "execution_count": 3,
   "metadata": {},
   "outputs": [],
   "source": [
    "def run(model,selections, duration):\n",
    "    model.integrator.absolute_tolerance = 1e-9\n",
    "    model.integrator.relatice_tolerance = 1e-9\n",
    "    results = model.simulate(start = 0, end = duration,steps = duration,\n",
    "                             selections = selections)\n",
    "    return results\n",
    "def modify(modelStr,replacements):\n",
    "    for key,value in replacements.items():\n",
    "        modelStr = modelStr.replace(key,value)\n",
    "    return modelStr\n",
    "def merge(modelStr,sub_model):\n",
    "    rr = modelStr.split('\\nend\\n\\npad_mac')\n",
    "    combined = rr[0]+sub_model+'\\nend\\n\\npad_mac is \"pad mac\"\\n'\n",
    "    return combined"
   ]
  },
  {
   "cell_type": "code",
   "execution_count": 4,
   "metadata": {},
   "outputs": [],
   "source": [
    "# replacements = {\n",
    "#     '$ikk_prod => IKK; k191*ikk_prod':'NEMO_IKK + Mg => Mg_NEMO + IKK; k302*Mg*NEMO_IKK - k303*IKK - k304*Mg_NEMO',\n",
    "#     'IKK + pTAK1 => pIKK + pTAK1; k189*IKK*pTAK1^2': 'IKK + pTAK1 => pIKK + pTAK1; k305*IKK*pTAK1^2',\n",
    "#     'IKK + O2_aPHD => deg + O2_aPHD;  k192*IKK*O2_aPHD^2': 'IKK + O2_aPHD => deg + O2_aPHD; k306*IKK*O2_aPHD^2',\n",
    "#     'pIKK => IKK; k190*pIKK': 'pIKK => IKK; k307*pIKK'\n",
    "# }\n",
    "replacements = {\n",
    "    '$ikk_prod => IKK; k191*ikk_prod':'NEMO_IKK + Mg => Mg_NEMO + IKK; k302*Mg*NEMO_IKK- k303*IKK - k304*Mg_NEMO'\n",
    "}\n",
    "\n",
    "extra_additions = \"\"\"\n",
    "    #// Mg initial condition and diffusion\n",
    "    Mg_e_mM = 0.8; #mM\n",
    "    Mg_e = Mg_e_mM*Mg_copy;\n",
    "    Mg = 0.8*Mg_copy ; # internal/physiological Mg\n",
    "    $Mg_e -> Mg; k301*(Mg_e - Mg) ; # Mg diffuses from extra- to intracellular space through345 TRPM7  \n",
    "    Mg_copy = 1000;k301 = .1;\n",
    "    \n",
    "    #// params related to the NEMO_IKK + Mg interaction\n",
    "    Mg_NEMO = 1000;\n",
    "    k302=0.01; k303 = 0.01; k304=0.01;\n",
    "    \n",
    "    #// NEMO_IKK production and degrdation\n",
    "    $NEMO_IKK_prod => NEMO_IKK; k308-k310*NEMO_IKK; #production\n",
    "    Mg_NEMO -> deg; k309*Mg_NEMO; # degradation\n",
    "    NEMO_IKK_prod = 1; NEMO_IKK = 1000;k310=100;k309=.1;k308=100;\n",
    "\"\"\"\n",
    "originalModel = te.loadSBMLModel(\"Zhao_2021.xml\")\n",
    "originalModelStr = originalModel.getAntimony ()\n",
    "modified_model = modify(originalModelStr,replacements)\n",
    "combined = merge(modified_model,extra_additions)\n",
    "combined = te.loada(combined)\n",
    "combined.exportToSBML('Mg_M.xml')\n"
   ]
  },
  {
   "cell_type": "code",
   "execution_count": 5,
   "metadata": {},
   "outputs": [
    {
     "data": {
      "image/png": "[encoded data removed]",
      "text/plain": [
       "<Figure size 432x288 with 1 Axes>"
      ]
     },
     "metadata": {
      "needs_background": "light"
     },
     "output_type": "display_data"
    }
   ],
   "source": [
    "def initial_conditions(model,keys,values):\n",
    "    for i in range(len(keys)):\n",
    "        free_param_name = keys[i]\n",
    "        model[free_param_name] = values[i]\n",
    "\n",
    "def run(model,targets, duration):\n",
    "    model.integrator.absolute_tolerance = 1e-9\n",
    "    model.integrator.relatice_tolerance = 1e-9\n",
    "    results = model.simulate(start = 0, end = duration,steps = duration,\n",
    "                             selections = targets)\n",
    "    return results\n",
    "targets = ['IKK']\n",
    "model = combined\n",
    "model.reset()\n",
    "initial_conditions(model,['k301','k302','Mg_e','NEMO_IKK'],[100,100,600,600])\n",
    "results = run(model,targets,1500)\n",
    "for tag in targets:\n",
    "    fig = plt.figure()\n",
    "    plt.plot(results[tag],label = 'Mg',linestyle = '--')\n",
    "    plt.legend()\n",
    "    plt.title(tag)"
   ]
  },
  {
   "cell_type": "code",
   "execution_count": 6,
   "metadata": {},
   "outputs": [
    {
     "data": {
      "image/png": "[encoded data removed]",
      "text/plain": [
       "<Figure size 432x288 with 1 Axes>"
      ]
     },
     "metadata": {
      "needs_background": "light"
     },
     "output_type": "display_data"
    }
   ],
   "source": [
    "test = \"\"\"\n",
    "    NEMO_IKK + Mg => Mg_NEMO + IKK; k302*Mg*NEMO_IKK- k303*IKK - k304*Mg_NEMO;\n",
    "    #NEMO_IKK + Mg => Mg_NEMO + IKK; k302*Mg*NEMO_IKK;\n",
    "    NEMO_IKK = 1000; Mg=1000; Mg_NEMO= 1000; IKK = 800; \n",
    "    k302=.00011;k303=.001;k304=.001;\n",
    "\"\"\"\n",
    "testModel = te.loada(test)\n",
    "targets = ['Mg']\n",
    "results = testModel.simulate(0,100,100,selections = ['TIME']+targets)\n",
    "for tag in targets:\n",
    "    fig = plt.figure()\n",
    "    plt.plot(results[tag],label = 'Mg',linestyle = '--')\n",
    "    plt.legend()\n",
    "    plt.title(tag)"
   ]
  }
 ],
 "metadata": {
  "kernelspec": {
   "display_name": "Python [conda env:v37_conda] *",
   "language": "python",
   "name": "conda-env-v37_conda-py"
  },
  "language_info": {
   "codemirror_mode": {
    "name": "ipython",
    "version": 3
   },
   "file_extension": ".py",
   "mimetype": "text/x-python",
   "name": "python",
   "nbconvert_exporter": "python",
   "pygments_lexer": "ipython3",
   "version": "3.7.9"
  }
 },
 "nbformat": 4,
 "nbformat_minor": 4
}
