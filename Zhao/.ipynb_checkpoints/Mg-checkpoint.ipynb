{
 "cells": [
  {
   "cell_type": "code",
   "execution_count": 16,
   "metadata": {},
   "outputs": [],
   "source": [
    "# settings\n",
    "import tellurium as te\n",
    "import matplotlib.pyplot as plt\n",
    "%config Completer.use_jedi = False\n",
    "\n",
    "showOriginalModelString = False"
   ]
  },
  {
   "cell_type": "code",
   "execution_count": 19,
   "metadata": {},
   "outputs": [],
   "source": [
    "if showOriginalModelString:\n",
    "    model = te.loadSBMLModel(\"edited.xml\")\n",
    "    modelStr = model.getAntimony()\n",
    "    modelStr"
   ]
  },
  {
   "cell_type": "code",
   "execution_count": 32,
   "metadata": {},
   "outputs": [],
   "source": [
    "def run(model,selections, duration):\n",
    "    model.integrator.absolute_tolerance = 1e-9\n",
    "    model.integrator.relatice_tolerance = 1e-9\n",
    "    results = model.simulate(start = 0, end = duration,steps = duration,\n",
    "                             selections = selections)\n",
    "    return results\n",
    "def modify(modelStr,replacements):\n",
    "    for key,value in replacements.items():\n",
    "        modelStr = modelStr.replace(key,value)\n",
    "    return modelStr\n",
    "def merge(modelStr,sub_model):\n",
    "    rr = modelStr.split('\\nend\\n\\npad_mac')\n",
    "    combined = rr[0]+sub_model+'\\nend\\n\\npad_mac is \"pad mac\"\\n'\n",
    "    return combined"
   ]
  },
  {
   "cell_type": "code",
   "execution_count": 48,
   "metadata": {},
   "outputs": [
    {
     "data": {
      "image/png": "[encoded data removed]",
      "text/plain": [
       "<Figure size 432x288 with 1 Axes>"
      ]
     },
     "metadata": {},
     "output_type": "display_data"
    }
   ],
   "source": [
    "replacements = {\n",
    "    '$ikk_prod => IKK; k191*ikk_prod':'NEMO_IKK + Mg => Mg_NEMO + IKK; k302*Mg*NEMO_IKK - k303*IKK - k304*Mg_NEMO',\n",
    "    'IKK + pTAK1 => pIKK + pTAK1; k189*IKK*pTAK1^2': 'IKK + pTAK1 => pIKK + pTAK1; k305*IKK*pTAK1^2',\n",
    "    'IKK + O2_aPHD => deg + O2_aPHD;  k192*IKK*O2_aPHD^2': 'IKK + O2_aPHD => deg + O2_aPHD; k306*IKK*O2_aPHD^2',\n",
    "    'pIKK => IKK; k190*pIKK': 'pIKK => IKK; k307*pIKK'\n",
    "}\n",
    "extra_additions = \"\"\"\n",
    "    Mg_e = 100000; # \n",
    "    Mg = 100000 ; # internal/physiological Mg\n",
    "    $Mg_e -> Mg; k301*(Mg_e - Mg) ; # Mg diffuses from extra- to intracellular space through345 TRPM7  \n",
    "    NEMO_IKK_prod = 1;\n",
    "    $NEMO_IKK_prod => NEMO_IKK; k308; \n",
    "    NEMO_IKK = 100000;\n",
    "    k301 = .1;  k302 = 100; k303 = 0.1; k304 = 0.1; k305 = 5e-08; k306 = 5.2e-10; k307 = 1; k308 = 100;\n",
    "\n",
    "\"\"\"\n",
    "originalModel = te.loadSBMLModel(\"edited.xml\")\n",
    "originalModelStr = originalModel.getAntimony ()\n",
    "modified_model = modify(originalModelStr,replacements)\n",
    "combined = merge(modified_model,extra_additions)\n",
    "combined = te.loada(combined)\n",
    "combined.exportToSBML('Mg_M.xml')\n",
    "# selections = ['TIME','Mg_e','Mg']\n",
    "selections = ['TIME','IKK','Mg_NEMO']\n",
    "results = run(combined,selections,duration = 1500)\n",
    "combined.plot()"
   ]
  },
  {
   "cell_type": "code",
   "execution_count": 6,
   "metadata": {},
   "outputs": [],
   "source": [
    "# test_model = \"\"\"\n",
    "#     Mg_e = 1; # \n",
    "#     Mg = 1 ; # internal/physiological Mg\n",
    "#     k301 = .1 ; $Mg_e -> Mg; k301*(Mg_e - Mg) ; # Mg diffuses from extra- to intracellular space through345 TRPM7  \n",
    "#     Mg + NEMO_IKK -> Mg_NEMO + IKK; k302*Mg*NEMO_IKK - k303*IKK - k304*Mg_NEMO ;\n",
    "#     k302 = 0.1 ; k303 = 0.1; k304 = 0.3 ; NEMO_IKK = .5;\n",
    "#     NEMO_IKK_prod = 1;\n",
    "#     $NEMO_IKK_prod -> NEMO_IKK; 0.1*NEMO_IKK_prod-.1*NEMO_IKK;\n",
    "#     Mg_NEMO->deg; .002*Mg_NEMO;\n",
    "    \n",
    "# \"\"\"\n",
    "# test_model = te.loada(test_model)\n",
    "# # selections = ['TIME','NFKB','NFKB_n']\n",
    "# selections = ['TIME','Mg','NEMO_IKK','Mg_NEMO','IKK']\n",
    "# test_model.simulate(0,1500,1500,selections= selections)\n",
    "# test_model.plot()"
   ]
  }
 ],
 "metadata": {
  "kernelspec": {
   "display_name": "Python [conda env:v37_conda] *",
   "language": "python",
   "name": "conda-env-v37_conda-py"
  },
  "language_info": {
   "codemirror_mode": {
    "name": "ipython",
    "version": 3
   },
   "file_extension": ".py",
   "mimetype": "text/x-python",
   "name": "python",
   "nbconvert_exporter": "python",
   "pygments_lexer": "ipython3",
   "version": "3.7.9"
  }
 },
 "nbformat": 4,
 "nbformat_minor": 4
}
