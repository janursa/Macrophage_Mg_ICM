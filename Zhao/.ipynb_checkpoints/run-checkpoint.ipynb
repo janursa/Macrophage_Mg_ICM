{
 "cells": [
  {
   "cell_type": "code",
   "execution_count": 81,
   "metadata": {},
   "outputs": [
    {
     "data": {
      "text/plain": [
       "[<matplotlib.lines.Line2D at 0x7faf3c382c90>]"
      ]
     },
     "execution_count": 81,
     "metadata": {},
     "output_type": "execute_result"
    },
    {
     "data": {
      "image/png": "[encoded data removed]",
      "text/plain": [
       "<Figure size 432x288 with 1 Axes>"
      ]
     },
     "metadata": {
      "needs_background": "light"
     },
     "output_type": "display_data"
    }
   ],
   "source": [
    "### test \n",
    "import tellurium as te\n",
    "import matplotlib.pyplot as plt\n",
    "%config Completer.use_jedi = False\n",
    "model = te.loadSBMLModel(\"edited.xml\")\n",
    "def set_ics(model):\n",
    "    model['O2'] = model['O2']/21*3\n",
    "set_ics(model)\n",
    "def run(model):\n",
    "    selections = ['HIF1a','HIF1a_n','HIF1a_b_n','HIF1a_OH']\n",
    "    model.integrator.absolute_tolerance = 1e-9\n",
    "    model.integrator.relatice_tolerance = 1e-9\n",
    "    results = model.simulate(start = 0, end = 1500,steps = 1500,\n",
    "                             selections = selections)\n",
    "    return results\n",
    "results = run(model)\n",
    "hif1a = results['HIF1a']+results['HIF1a_n']+results['HIF1a_b_n']+results['HIF1a_OH']\n",
    "hif1a = hif1a/max(hif1a)\n",
    "plt.plot(hif1a)\n"
   ]
  },
  {
   "cell_type": "code",
   "execution_count": null,
   "metadata": {},
   "outputs": [],
   "source": [
    "### test \n",
    "import tellurium as te\n",
    "import matplotlib.pyplot as plt\n",
    "import sys\n",
    "%config Completer.use_jedi = False\n",
    "model = te.loadSBMLModel(\"edited.xml\")\n",
    "inputs = { # for sampling\n",
    "    'IL1bb' : [0,100]\n",
    "}\n",
    "def check_inputs(model,inputs):\n",
    "    print('here')\n",
    "    for key in inputs.keys():\n",
    "#         try:\n",
    "        print(key)\n",
    "        model[key]\n",
    "#         except :\n",
    "#             raise ValueError('{} is not a valid input name'.format(key))\n",
    "check_inputs(model,inputs)\n",
    "sys.exit()            \n",
    "\n",
    "def set_ics(model):\n",
    "    model['O2'] = model['O2']/21*3\n",
    "set_ics(model)\n",
    "def run(model):\n",
    "    selections = ['HIF1a','HIF1a_n','HIF1a_b_n','HIF1a_OH']\n",
    "    model.integrator.absolute_tolerance = 1e-9\n",
    "    model.integrator.relatice_tolerance = 1e-9\n",
    "    results = model.simulate(start = 0, end = 1500,steps = 1500,\n",
    "                             selections = selections)\n",
    "    return results\n",
    "results = run(model)\n",
    "hif1a = results['HIF1a']+results['HIF1a_n']+results['HIF1a_b_n']+results['HIF1a_OH']\n",
    "hif1a = hif1a/max(hif1a)\n",
    "plt.plot(hif1a)"
   ]
  },
  {
   "cell_type": "code",
   "execution_count": null,
   "metadata": {},
   "outputs": [],
   "source": []
  }
 ],
 "metadata": {
  "kernelspec": {
   "display_name": "Python [conda env:v37_conda] *",
   "language": "python",
   "name": "conda-env-v37_conda-py"
  },
  "language_info": {
   "codemirror_mode": {
    "name": "ipython",
    "version": 3
   },
   "file_extension": ".py",
   "mimetype": "text/x-python",
   "name": "python",
   "nbconvert_exporter": "python",
   "pygments_lexer": "ipython3",
   "version": "3.7.9"
  }
 },
 "nbformat": 4,
 "nbformat_minor": 4
}
