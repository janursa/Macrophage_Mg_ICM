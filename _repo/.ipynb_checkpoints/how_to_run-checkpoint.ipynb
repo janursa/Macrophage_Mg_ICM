{
 "cells": [
  {
   "cell_type": "markdown",
   "metadata": {},
   "source": [
    "## Model\n",
    "The current model is based on the article \"A data-driven computational model enables integrative and mechanistic characterization of dynamic macrophage polarization\".\n",
    "The original model needs edition to run in Python. Therefore, the edited model is provided, i.e. \"edited.xml\". The model receives 7 proteins and oxygen as inputs. The model deals with the variables in absolute copy number. The real inputs, however, are either `ng/ml` for proteins or `%` for oxygen. Therefore, the following sections is defined to map these units to one another,"
   ]
  },
  {
   "cell_type": "code",
   "execution_count": 1,
   "metadata": {},
   "outputs": [],
   "source": [
    "## constants\n",
    "mws = { #molecular weights/ Da\n",
    "    'IL1b' : 31000,\n",
    "    'IFNG': 16879,\n",
    "    'TNFa': 26000,\n",
    "    'IL4': 20000,\n",
    "    'V165a': 45000,\n",
    "    'V165b': 45000,\n",
    "    'IL10': 18000\n",
    "} \n",
    "c_2_ac = {} # concentration to absolute copy\n",
    "for key,value in mws.items():\n",
    "    c_2_ac[key] = (6.022*10**23)/(value*10**9)/10**6\n",
    "ac_2_c = {} # absolute copy number to concentration\n",
    "for key,value in c_2_ac.items():\n",
    "    ac_2_c[key] = 10**6*(value*10**9)/(6.022*10**23) #TODO\n",
    "c_2_ac['O2'] = 120400000/21 # % to absolute copy for oxygen\n",
    "ac_2_c['02'] = 21/120400000 # absolute copy to %"
   ]
  },
  {
   "cell_type": "markdown",
   "metadata": {},
   "source": [
    "## A showcase\n",
    "To demonstrate a simple run of the model, we import the model, set an initial values of 1 ng/ml for IL4, and observe the outputs for 'IL10' for a duration of 1500 minutes."
   ]
  },
  {
   "cell_type": "code",
   "execution_count": 5,
   "metadata": {},
   "outputs": [
    {
     "name": "stdout",
     "output_type": "stream",
     "text": [
      "<roadrunner.RoadRunner() { \n",
      "'this' : 0x7fa0120df780\n",
      "'modelLoaded' : true\n",
      "'modelName' : pad mac\n",
      "'libSBMLVersion' : LibSBML Version: 5.19.0\n",
      "'jacobianStepSize' : 1e-05\n",
      "'conservedMoietyAnalysis' : false\n",
      "'simulateOptions' : \n",
      "< roadrunner.SimulateOptions() \n",
      "{ \n",
      "'this' : 0x7fa0120ccc40, \n",
      "'reset' : 0,\n",
      "'structuredResult' : 0,\n",
      "'copyResult' : 1,\n",
      "'steps' : 50,\n",
      "'start' : 0,\n",
      "'duration' : 5\n",
      "'output_file' : \n",
      "}>, \n",
      "'integrator' : \n",
      "< roadrunner.Integrator() >\n",
      "  name: cvode\n",
      "  settings:\n",
      "      relative_tolerance: 0.000001\n",
      "      absolute_tolerance: 0.000000000001\n",
      "                   stiff: true\n",
      "       maximum_bdf_order: 5\n",
      "     maximum_adams_order: 12\n",
      "       maximum_num_steps: 20000\n",
      "       maximum_time_step: 0\n",
      "       minimum_time_step: 0\n",
      "       initial_time_step: 0\n",
      "          multiple_steps: false\n",
      "      variable_step_size: false\n",
      "         max_output_rows: 100000\n",
      "\n",
      "}>\n"
     ]
    },
    {
     "data": {
      "text/plain": [
       "Text(0,0.5,'IL10')"
      ]
     },
     "execution_count": 5,
     "metadata": {},
     "output_type": "execute_result"
    }
   ],
   "source": [
    "import tellurium as te\n",
    "import matplotlib.pyplot as plt\n",
    "%config Completer.use_jedi = False\n",
    "model = te.loadSBMLModel(\"Zhao_2021.xml\")\n",
    "print(model)\n",
    "def set_ics(model): # sets the model variable\n",
    "    model['IL4'] = 1*c_2_ac['IL4'] #convert from ng/ml to copy number\n",
    "set_ics(model)\n",
    "out_tag = 'IL10'\n",
    "duration = 1500\n",
    "def run(model):\n",
    "    selections = [out_tag]\n",
    "    model.integrator.absolute_tolerance = 1e-9\n",
    "    model.integrator.relatice_tolerance = 1e-9\n",
    "    results = model.simulate(start = 0, end = duration,steps = duration,\n",
    "                             selections = selections)\n",
    "    return results\n",
    "results = run(model)\n",
    "out = results[out_tag]\n",
    "out = out/max(out)\n",
    "fig = plt.figure()\n",
    "plt.plot(out)\n",
    "plt.xlabel('Minutes')\n",
    "plt.ylabel(out_tag)"
   ]
  },
  {
   "cell_type": "markdown",
   "metadata": {},
   "source": [
    "## Aim\n",
    "For the first step, we want to train a neural network that produces same outputs as the given model. The trained NN should receive the given set of inputs (given below) in their given range and produce the outputs (given below) for the entire time duration of 1500 minutes with the step fo 1 minutes."
   ]
  },
  {
   "cell_type": "code",
   "execution_count": null,
   "metadata": {},
   "outputs": [],
   "source": [
    "i_p_range = { # input parameter ranges for sampling # user input\n",
    "    'IL1b' : [0,10],#0-10 ng/ml\n",
    "    'IFNG': [0,50], #valid 0-50 ng/ml\n",
    "    'TNFa': [0,100], #valid 0-100 ng/ml\n",
    "    'IL4': [0,100], #valid 0-100 ng/ml\n",
    "    'V165a': [0.1,20], # valid. 0.1–20 \n",
    "    'V165b': [0,100], # \n",
    "    'IL10': [0,100], #0-100 ng/ml: valid\n",
    "    'O2': [0,120400000] # 0 to 27%: valid\n",
    "}\n",
    "o_ps = ['iNOS', 'CXCL9', 'mCXCL10', 'IFNG', 'TNFa', 'IL1b', 'IL12', 'V165b',\n",
    "       'ARG1','IL1Ra','IL4','IL10','V165a'] # output parameters\n",
    "\n",
    "duration = 1500 #minutes"
   ]
  }
 ],
 "metadata": {
  "kernelspec": {
   "display_name": "Python [conda env:v37_conda] *",
   "language": "python",
   "name": "conda-env-v37_conda-py"
  },
  "language_info": {
   "codemirror_mode": {
    "name": "ipython",
    "version": 3
   },
   "file_extension": ".py",
   "mimetype": "text/x-python",
   "name": "python",
   "nbconvert_exporter": "python",
   "pygments_lexer": "ipython3",
   "version": "3.7.9"
  }
 },
 "nbformat": 4,
 "nbformat_minor": 4
}
