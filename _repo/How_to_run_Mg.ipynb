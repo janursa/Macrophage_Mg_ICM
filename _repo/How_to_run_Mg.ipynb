{
 "cells": [
  {
   "cell_type": "code",
   "execution_count": 1,
   "metadata": {},
   "outputs": [],
   "source": [
    "# default inputs / functions\n",
    "import tellurium as te\n",
    "import matplotlib.pyplot as plt\n",
    "%config Completer.use_jedi = False\n",
    "showOriginalModelString = False\n",
    "## run function\n",
    "def run(model,selections, duration):\n",
    "    model.integrator.absolute_tolerance = 1e-9\n",
    "    model.integrator.relatice_tolerance = 1e-9\n",
    "    results = model.simulate(start = 0, end = duration,steps = duration,\n",
    "                             selections = selections)\n",
    "    return results"
   ]
  },
  {
   "cell_type": "code",
   "execution_count": 2,
   "metadata": {},
   "outputs": [],
   "source": [
    "# target outputs. The original and edited models should produce same outcomes for these outputs\n",
    "targets = ['NFKB', 'pIKK', 'TAK1']"
   ]
  },
  {
   "cell_type": "code",
   "execution_count": 3,
   "metadata": {},
   "outputs": [
    {
     "name": "stdout",
     "output_type": "stream",
     "text": [
      "[87.         87.28152778 89.71283009 ... 82.85101646 82.850677\n",
      " 82.8503396 ]\n"
     ]
    }
   ],
   "source": [
    "# how to run a model\n",
    "## load a model, e.g. the original model\n",
    "model = te.loadSBMLModel(\"Zhao.xml\") \n",
    "\n",
    "duration = 1500 #duration of the simulation\n",
    "selections = targets + ['TIME'] # the outputs of the model + the factor of TIME\n",
    "results = run(model,selections,duration)\n",
    "print(results['pIKK'])"
   ]
  },
  {
   "cell_type": "code",
   "execution_count": 8,
   "metadata": {},
   "outputs": [],
   "source": [
    "# list of free parameters\n",
    "free_params = ['NEMO_IKK','k301','k302','k303','k304','k305','k306','k307','k308']"
   ]
  },
  {
   "cell_type": "code",
   "execution_count": 9,
   "metadata": {},
   "outputs": [
    {
     "name": "stdout",
     "output_type": "stream",
     "text": [
      "[8.70000000e+01 2.00509853e+05 2.00609903e+05 ... 3.49930023e+05\n",
      " 3.50029967e+05 3.50129910e+05]\n"
     ]
    }
   ],
   "source": [
    "# how to set the models' parameters\n",
    "## load the edited model\n",
    "edited_model = te.loadSBMLModel(\"Mg_M.xml\") \n",
    "## set the value of a free parameter\n",
    "edited_model['k305'] = 10;\n",
    "duration = 1500 #duration of the simulation\n",
    "selections = targets + ['TIME'] # the outputs of the model + the factor of TIME\n",
    "results = run(edited_model,selections,duration)\n",
    "print(results['pIKK'])"
   ]
  }
 ],
 "metadata": {
  "kernelspec": {
   "display_name": "Python [conda env:v37_conda] *",
   "language": "python",
   "name": "conda-env-v37_conda-py"
  },
  "language_info": {
   "codemirror_mode": {
    "name": "ipython",
    "version": 3
   },
   "file_extension": ".py",
   "mimetype": "text/x-python",
   "name": "python",
   "nbconvert_exporter": "python",
   "pygments_lexer": "ipython3",
   "version": "3.7.9"
  }
 },
 "nbformat": 4,
 "nbformat_minor": 4
}
