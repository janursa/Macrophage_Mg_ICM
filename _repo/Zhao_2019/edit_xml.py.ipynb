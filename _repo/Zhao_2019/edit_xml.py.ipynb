{
 "cells": [
  {
   "cell_type": "code",
   "execution_count": 70,
   "metadata": {
    "inputHidden": false,
    "outputHidden": false
   },
   "outputs": [],
   "source": [
    "import sys\n",
    "input_file = \"7pathmodel_clean_v2.xml\" \n",
    "with open(input_file,'r') as file:\n",
    "    content = file.read()\n",
    "lines = content.splitlines()\n",
    "id_name_map = {}\n",
    "for line in lines:\n",
    "    id_i = line.find(' id')\n",
    "    if id_i!=-1:\n",
    "        name_i = line.find(' name')\n",
    "        if name_i == -1:\n",
    "            print(line) # this is an error\n",
    "        def find_name(line):\n",
    "#             print(line)\n",
    "#             sys.exit()\n",
    "            name_i = line.find('name')\n",
    "            start_i = line[name_i:].find(\"\\\"\") #find the first \"\n",
    "            a_start_line = line[name_i+start_i:]\n",
    "            end_i = line[name_i+start_i+1:].find(\"\\\"\")\n",
    "            return line[name_i+start_i:name_i+start_i+end_i+2]             \n",
    "        name = find_name(line)\n",
    "        def find_ID(line):\n",
    "            start_i = line[id_i:].find(\"\\\"\")\n",
    "            end_i = line[start_i+id_i+1:].find(\"\\\"\")\n",
    "            return line[id_i+start_i:id_i+start_i+end_i+2]           \n",
    "        ID = find_ID(line)\n",
    "        id_name_map.update({ID[1:-1]:name[1:-1]})\n",
    "# print(id_name_map)\n",
    "for ID,name in id_name_map.items():\n",
    "    new_name = name.replace(\"/\",\"_\")\n",
    "    new_name = new_name.replace(\" \",\"_\")\n",
    "    new_name = new_name.replace(\"-\",\"_\")\n",
    "    content = content.replace(ID,new_name)\n",
    "    content = content.replace(ID[1:-1],new_name[1:-1])\n",
    "# for _,name in id_name_map.items():\n",
    "#     new_name = name.replace(\"/\",\"_\")\n",
    "#     new_name = new_name.replace(\" \",\"_\")\n",
    "#     content = content.replace(name,new_name)\n",
    "#     content = content.replace(name[1:-1],new_name[1:-1])     \n",
    "with open(\"edited.xml\",\"w\") as file:\n",
    "    file.write(content)\n",
    "                "
   ]
  },
  {
   "cell_type": "code",
   "execution_count": null,
   "metadata": {},
   "outputs": [],
   "source": []
  }
 ],
 "metadata": {
  "kernel_info": {
   "name": "python3"
  },
  "kernelspec": {
   "display_name": "Python 3",
   "language": "python",
   "name": "python3"
  },
  "language_info": {
   "codemirror_mode": {
    "name": "ipython",
    "version": 3
   },
   "file_extension": ".py",
   "mimetype": "text/x-python",
   "name": "python",
   "nbconvert_exporter": "python",
   "pygments_lexer": "ipython3",
   "version": "3.7.9"
  }
 },
 "nbformat": 4,
 "nbformat_minor": 4
}
