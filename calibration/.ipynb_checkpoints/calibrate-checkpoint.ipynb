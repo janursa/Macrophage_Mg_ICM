{
 "cells": [
  {
   "cell_type": "code",
   "execution_count": 16,
   "id": "8bf5af75",
   "metadata": {},
   "outputs": [
    {
     "name": "stdout",
     "output_type": "stream",
     "text": [
      "The autoreload extension is already loaded. To reload it, use:\n",
      "  %reload_ext autoreload\n",
      "{'kd_ikb_d': [0.001, 100], 'n_ikb_d': [0.1, 100], 'kd_ikb_p': [0.001, 100], 'n_ikb_p': [0.1, 30]}\n",
      "dict_keys(['S12_IkBa_mg', 'Q21_IkBa'])\n",
      "differential_evolution step 1: f(x)= 0.814322\n",
      "differential_evolution step 2: f(x)= 0.814322\n",
      "differential_evolution step 3: f(x)= 0.814322\n",
      "differential_evolution step 4: f(x)= 0.814322\n",
      "differential_evolution step 5: f(x)= 0.230569\n",
      "differential_evolution step 6: f(x)= 0.0809135\n",
      "differential_evolution step 7: f(x)= 0.0809135\n",
      "differential_evolution step 8: f(x)= 0.0809135\n",
      "differential_evolution step 9: f(x)= 0.0809135\n",
      "differential_evolution step 10: f(x)= 0.0809135\n",
      "differential_evolution step 11: f(x)= 0.0809135\n",
      "differential_evolution step 12: f(x)= 0.0809135\n",
      "differential_evolution step 13: f(x)= 0.0809135\n",
      "differential_evolution step 14: f(x)= 0.0809135\n",
      "differential_evolution step 15: f(x)= 0.0450768\n",
      "differential_evolution step 16: f(x)= 0.0450768\n",
      "differential_evolution step 17: f(x)= 0.0450768\n",
      "differential_evolution step 18: f(x)= 0.0450768\n",
      "differential_evolution step 19: f(x)= 0.0450768\n",
      "differential_evolution step 20: f(x)= 0.0449174\n",
      "differential_evolution step 21: f(x)= 0.0449174\n",
      "differential_evolution step 22: f(x)= 0.0412806\n",
      "differential_evolution step 23: f(x)= 0.0305591\n",
      "differential_evolution step 24: f(x)= 0.0305591\n",
      "differential_evolution step 25: f(x)= 0.0305591\n",
      "differential_evolution step 26: f(x)= 0.0305591\n",
      "differential_evolution step 27: f(x)= 0.0305591\n",
      "differential_evolution step 28: f(x)= 0.0305591\n",
      "differential_evolution step 29: f(x)= 0.0297342\n",
      "differential_evolution step 30: f(x)= 0.0297342\n",
      "differential_evolution step 31: f(x)= 0.0297342\n",
      "differential_evolution step 32: f(x)= 0.0297342\n",
      "differential_evolution step 33: f(x)= 0.0297342\n",
      "differential_evolution step 34: f(x)= 0.0297342\n",
      "differential_evolution step 35: f(x)= 0.0297342\n",
      "differential_evolution step 36: f(x)= 0.0297342\n",
      "differential_evolution step 37: f(x)= 0.0297342\n",
      "differential_evolution step 38: f(x)= 0.0297342\n",
      "differential_evolution step 39: f(x)= 0.0297342\n",
      "differential_evolution step 40: f(x)= 0.0297342\n",
      "differential_evolution step 41: f(x)= 0.0297342\n",
      "differential_evolution step 42: f(x)= 0.0297342\n",
      "differential_evolution step 43: f(x)= 0.0297342\n",
      "differential_evolution step 44: f(x)= 0.0297342\n",
      "differential_evolution step 45: f(x)= 0.0297342\n",
      "differential_evolution step 46: f(x)= 0.0297342\n",
      "differential_evolution step 47: f(x)= 0.0295596\n",
      "differential_evolution step 48: f(x)= 0.0295596\n",
      "differential_evolution step 49: f(x)= 0.0295596\n",
      "differential_evolution step 50: f(x)= 0.0295596\n",
      "differential_evolution step 51: f(x)= 0.0295596\n",
      "differential_evolution step 52: f(x)= 0.0295596\n",
      "differential_evolution step 53: f(x)= 0.0209826\n",
      "differential_evolution step 54: f(x)= 0.0209826\n",
      "differential_evolution step 55: f(x)= 0.0209826\n",
      "differential_evolution step 56: f(x)= 0.0209826\n",
      "differential_evolution step 57: f(x)= 0.0209826\n",
      "differential_evolution step 58: f(x)= 0.0209826\n",
      "differential_evolution step 59: f(x)= 0.0209826\n",
      "differential_evolution step 60: f(x)= 0.0209826\n",
      "differential_evolution step 61: f(x)= 0.0209826\n",
      "differential_evolution step 62: f(x)= 0.0209826\n",
      "differential_evolution step 63: f(x)= 0.016575\n"
     ]
    },
    {
     "data": {
      "text/plain": [
       "0"
      ]
     },
     "execution_count": 16,
     "metadata": {},
     "output_type": "execute_result"
    }
   ],
   "source": [
    "import os\n",
    "import sys\n",
    "main_dir = '/Users/matin/Downloads/testProjs/intracellular_M'\n",
    "sys.path.insert(0,main_dir)\n",
    "from tools import dirs\n",
    "from tools.tools import calibrate\n",
    "import json\n",
    "from models.params import free_params_p, fixed_params\n",
    "from data.observations import observations,packages\n",
    "from models.models import Macrophage\n",
    "%load_ext autoreload\n",
    "%autoreload\n",
    "dir_model = dirs.dir_model\n",
    "target_package = 'P5'\n",
    "free_params = free_params_p[target_package]\n",
    "studies = {}\n",
    "for study in packages[target_package]:\n",
    "    studies[study] = observations[study]\n",
    "print(free_params)\n",
    "print(studies.keys())\n",
    "\n",
    "model_obj = Macrophage(dir_model=dir_model)\n",
    "\n",
    "def callback(xk, convergence):\n",
    "    params = {**fixed_params}\n",
    "    keys = list(free_params.keys())\n",
    "    for ii in range(len(keys)):\n",
    "        params[keys[ii]] = xk[ii]\n",
    "    error = model_obj.run(params = params,studies=studies)\n",
    "    if  error < 0.02:\n",
    "        return True\n",
    "    \n",
    "class Strategies:\n",
    "    best1bin = 'best1bin'\n",
    "    rand1exp = 'rand1exp'\n",
    "inferred_params = calibrate(model = model_obj,fixed_params = fixed_params, free_params=free_params, studies = studies, n_proc=1,disp=True,max_iters=100,strategy=Strategies.best1bin,callback=callback)\n",
    "with open(os.path.join(dirs.dir_outputs,'inferred_params_{}.json'.format(target_package)),'w') as f:\n",
    "    f.write(json.dumps(inferred_params,indent=4))\n",
    "os.system('say \"Hey Matin, calibration is done, come back\"')"
   ]
  },
  {
   "cell_type": "code",
   "execution_count": null,
   "id": "c546acf5",
   "metadata": {},
   "outputs": [],
   "source": [
    "with open(dirs.dir_calib_output,'w') as f:\n",
    "    f.write(json.dumps(inferred_params,indent=4))"
   ]
  }
 ],
 "metadata": {
  "kernelspec": {
   "display_name": "Python [conda env:v37_conda] *",
   "language": "python",
   "name": "conda-env-v37_conda-py"
  },
  "language_info": {
   "codemirror_mode": {
    "name": "ipython",
    "version": 3
   },
   "file_extension": ".py",
   "mimetype": "text/x-python",
   "name": "python",
   "nbconvert_exporter": "python",
   "pygments_lexer": "ipython3",
   "version": "3.7.9"
  }
 },
 "nbformat": 4,
 "nbformat_minor": 5
}
