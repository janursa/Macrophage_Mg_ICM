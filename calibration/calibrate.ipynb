{
 "cells": [
  {
   "cell_type": "code",
   "execution_count": null,
   "id": "c64b14f0",
   "metadata": {},
   "outputs": [],
   "source": [
    "import os\n",
    "import sys\n",
    "main_dir = '/Users/matin/Downloads/testProjs/intracellular_M'\n",
    "sys.path.insert(0,main_dir)\n",
    "from tools import dirs\n",
    "from tools.tools import calibrate\n",
    "import json\n",
    "from models.params import free_params_p, fixed_params\n",
    "from data.observations import observations,packages\n",
    "from models.models import Macrophage\n",
    "%load_ext autoreload\n",
    "%autoreload\n",
    "dir_model = dirs.dir_model\n",
    "target_package = 'P5'\n",
    "free_params = free_params_p[target_package]\n",
    "studies = {}\n",
    "for study in packages[target_package]:\n",
    "    studies[study] = observations[study]\n",
    "print(free_params)\n",
    "print(studies.keys())\n",
    "\n",
    "model_obj = Macrophage(dir_model=dir_model)\n",
    "\n",
    "def callback(xk, convergence):\n",
    "    params = {**fixed_params}\n",
    "    keys = list(free_params.keys())\n",
    "    for ii in range(len(keys)):\n",
    "        params[keys[ii]] = xk[ii]\n",
    "    error = model_obj.run(params = params,studies=studies)\n",
    "    if  error < 0.01:\n",
    "        return True\n",
    "    \n",
    "class Strategies:\n",
    "    best1bin = 'best1bin'\n",
    "    rand1exp = 'rand1exp'\n",
    "inferred_params = calibrate(model = model_obj,fixed_params = fixed_params, free_params=free_params, studies = studies, n_proc=1,disp=True,max_iters=100,strategy=Strategies.best1bin,callback=callback)\n",
    "with open(os.path.join(dirs.dir_outputs,'inferred_params_{}.json'.format(target_package)),'w') as f:\n",
    "    f.write(json.dumps(inferred_params,indent=4))\n",
    "os.system('say \"Hey Matin, calibration is done, come back\"')"
   ]
  },
  {
   "cell_type": "code",
   "execution_count": null,
   "id": "6608b8d2",
   "metadata": {},
   "outputs": [],
   "source": [
    "print(inferred_params)"
   ]
  }
 ],
 "metadata": {
  "kernelspec": {
   "display_name": "Python [conda env:v37_conda] *",
   "language": "python",
   "name": "conda-env-v37_conda-py"
  },
  "language_info": {
   "codemirror_mode": {
    "name": "ipython",
    "version": 3
   },
   "file_extension": ".py",
   "mimetype": "text/x-python",
   "name": "python",
   "nbconvert_exporter": "python",
   "pygments_lexer": "ipython3",
   "version": "3.7.9"
  }
 },
 "nbformat": 4,
 "nbformat_minor": 5
}
