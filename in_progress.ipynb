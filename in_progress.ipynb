{
 "cells": [
  {
   "cell_type": "code",
   "execution_count": 42,
   "metadata": {},
   "outputs": [],
   "source": [
    "import numpy as np\n",
    "import json\n",
    "import matplotlib.pyplot as plt\n",
    "from tools import dirs,tools\n",
    "import tellurium as te\n",
    "from data.observations import observations,select_obs\n",
    "from models.models import Macrophage\n",
    "from models.params import fixed_params\n",
    "%load_ext autoreload\n",
    "%autoreload 2\n",
    "%matplotlib inline \n",
    "plt.rcParams[\"font.family\"] = \"serif\"\n",
    "plt.style.use('seaborn-deep')\n",
    "plt.rcParams[\"font.serif\"] = [\"Times New Roman\"] + plt.rcParams[\"font.serif\"]\n",
    "%config Completer.use_jedi = False\n",
    "showOriginalModelString = True"
   ]
  },
  {
   "cell_type": "code",
   "execution_count": null,
   "metadata": {
    "code_folding": [
     11
    ]
   },
   "outputs": [],
   "source": [
    "##--- import sbml model and edits it to remove invalid ids----#####\n",
    "if True: # mg model from matlab\n",
    "    from tools.tools import edit_matlab_model\n",
    "    edit_matlab_model(input_file=dirs.dir_M1_matlab_model,output_file=dirs.dir_M1_model)\n",
    "    model = te.loadSBMLModel(dirs.dir_M1_model)\n",
    "    model_str = model.getAntimony()\n",
    "    with open('models/M1_sbml_str.txt','w') as file:\n",
    "        file.write(model_str)\n",
    "if False: # zhao model\n",
    "    import sys\n",
    "    import tellurium as te\n",
    "    from tools.dirs import dir_Zhao_model\n",
    "    from tools.tools import edit_matlab_model\n",
    "    edit_matlab_model(input_file=dir_Zhao_model,output_file=dir_Zhao_model)\n",
    "    model = te.loadSBMLModel(dir_Zhao_model)\n",
    "    model_str = model.getAntimony()\n",
    "    with open('models/%s_str.txt'%'Zhao_sbml','w') as file:\n",
    "        file.write(model_str)\n",
    "# run_model(model=model,params = {},duration=200,target_keys=['Mg_f','Mg_e'])"
   ]
  },
  {
   "cell_type": "code",
   "execution_count": 3,
   "metadata": {},
   "outputs": [
    {
     "data": {
      "text/plain": [
       "<matplotlib.legend.Legend at 0x7fed486ade10>"
      ]
     },
     "execution_count": 3,
     "metadata": {},
     "output_type": "execute_result"
    },
    {
     "data": {
      "image/png": "[encoded data removed]",
      "text/plain": [
       "<Figure size 432x288 with 1 Axes>"
      ]
     },
     "metadata": {
      "needs_background": "light"
     },
     "output_type": "display_data"
    }
   ],
   "source": [
    "### creating an activated macrophage model ###\n",
    "zz_model = te.loadSBMLModel(dirs.dir_Zhao_model)\n",
    "# apply 10ng/ml TNFa for 12h\n",
    "inputs = {'TNFa':tools.c_2_ac['TNFa']*10} \n",
    "species_IDs = zz_model.getFloatingSpeciesIds()\n",
    "Macrophage.run_sbml_model(model_sbml = zz_model,params = {**inputs},duration = 12*60, selections = ['time']+species_IDs)\n",
    "\n",
    "# store the stimulated values of the species\n",
    "activation_stimuli = {}\n",
    "for ID in species_IDs:\n",
    "    activation_stimuli[ID] = zz_model[ID]\n",
    "with open(dirs.dir_activation_stimuli,'w') as ff:\n",
    "    ff.write(json.dumps(activation_stimuli,indent=4))\n",
    "    \n",
    "selection = 'NFKB_n'\n",
    "def scenario1():\n",
    "    results = Macrophage.run_sbml_model(model_sbml=zz_model,params={**inputs},duration=36*60,selections = ['time',selection])\n",
    "    return results\n",
    "def scenario2():\n",
    "    rr1 = Macrophage.run_sbml_model(model_sbml=zz_model,params={**inputs},duration=12*60,selections = ['time',selection])\n",
    "    rr2 = Macrophage.run_sbml_model(model_sbml=zz_model,params={**inputs},duration=24*60,selections = ['time',selection],activation=True)\n",
    "    return rr1,rr2\n",
    "rr1 = scenario1()\n",
    "rr21,rr22 = scenario2()\n",
    "fig = plt.figure()\n",
    "ax = fig.add_subplot(1,1,1)\n",
    "\n",
    "ax.plot(rr1['time'],rr1[selection],label='rr1')\n",
    "ax.plot(rr21['time'],rr21[selection],label='rr21')\n",
    "ax.plot(rr22['time']+max(rr21['time']),rr22[selection],label='rr22')\n",
    "ax.legend()\n"
   ]
  },
  {
   "cell_type": "code",
   "execution_count": null,
   "metadata": {},
   "outputs": [],
   "source": [
    "zz_model = te.loadSBMLModel(dirs.dir_Zhao_model)\n",
    "# apply TNFa for 12h\n",
    "species_IDs = zz_model.getFloatingSpeciesIds()\n",
    "# print(zz_model.get)\n",
    "tag = 'NFKB_n'\n",
    "print(tag,zz_model[tag])\n",
    "results = Macrophage.run_sbml_model(model_sbml = zz_model,duration = 12*60, selections = ['time']+species_IDs)\n",
    "print(tag,zz_model[tag])"
   ]
  },
  {
   "cell_type": "code",
   "execution_count": 16,
   "metadata": {},
   "outputs": [
    {
     "name": "stdout",
     "output_type": "stream",
     "text": [
      "       time,  a, b\n",
      " [[       0, 10, 1],\n",
      "  [ 1.11111, 10, 1],\n",
      "  [ 2.22222, 10, 1],\n",
      "  [ 3.33333, 10, 1],\n",
      "  [ 4.44444, 10, 1],\n",
      "  [ 5.55556, 10, 1],\n",
      "  [ 6.66667, 10, 1],\n",
      "  [ 7.77778, 10, 1],\n",
      "  [ 8.88889, 10, 1],\n",
      "  [      10, 10, 1]]\n",
      "\n"
     ]
    }
   ],
   "source": [
    "_str = \"\"\"\n",
    "    a = 10;\n",
    "    b = 0;\n",
    "    at (time ==0), t0=false: b = 1;\n",
    "\"\"\"\n",
    "mm = te.loada(_str)\n",
    "results = mm.simulate(0,10,10,selections = ['time','a','b'])\n",
    "print(results)"
   ]
  }
 ],
 "metadata": {
  "kernelspec": {
   "display_name": "Python [conda env:v37_conda] *",
   "language": "python",
   "name": "conda-env-v37_conda-py"
  },
  "language_info": {
   "codemirror_mode": {
    "name": "ipython",
    "version": 3
   },
   "file_extension": ".py",
   "mimetype": "text/x-python",
   "name": "python",
   "nbconvert_exporter": "python",
   "pygments_lexer": "ipython3",
   "version": "3.7.9"
  }
 },
 "nbformat": 4,
 "nbformat_minor": 4
}
