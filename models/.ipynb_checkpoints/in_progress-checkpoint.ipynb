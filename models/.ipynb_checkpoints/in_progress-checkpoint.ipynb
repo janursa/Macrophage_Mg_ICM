{
 "cells": [
  {
   "cell_type": "code",
   "execution_count": 1,
   "metadata": {},
   "outputs": [],
   "source": [
    "from scipy.optimize import differential_evolution\n",
    "import numpy as np\n",
    "import json\n",
    "import matplotlib.pyplot as plt\n",
    "import tellurium as te\n",
    "plt.rcParams[\"font.family\"] = \"serif\"\n",
    "plt.style.use('seaborn-deep')\n",
    "plt.rcParams[\"font.serif\"] = [\"Times New Roman\"] + plt.rcParams[\"font.serif\"]\n",
    "%config Completer.use_jedi = False\n",
    "showOriginalModelString = True\n",
    "# from models import MG_MODEL"
   ]
  },
  {
   "cell_type": "code",
   "execution_count": 2,
   "metadata": {},
   "outputs": [],
   "source": [
    "## common functions\n",
    "def plot(data,target):\n",
    "    fig = plt.figure()\n",
    "    fig.canvas.draw()\n",
    "    ax = fig.add_subplot(1, 1, 1)\n",
    "    ax.plot(data['time'],data[target])\n",
    "    ax.set_title(target)"
   ]
  },
  {
   "cell_type": "code",
   "execution_count": null,
   "metadata": {},
   "outputs": [],
   "source": [
    "model_text = \"\"\"\n",
    "            $IKK_prod -> IKK; k302*Mg\n",
    "            Mg -> deg; .01*Mg\n",
    "            IKK_prod = 1\n",
    "            Mg = 1\n",
    "            k302 = 1000\n",
    "        \"\"\"\n",
    "model = te.loada(model_text)\n",
    "results = model.simulate(0,1500,selections = ['TIME','IKK'])\n",
    "plot(results,'IKK')"
   ]
  },
  {
   "cell_type": "code",
   "execution_count": 2,
   "metadata": {},
   "outputs": [
    {
     "name": "stdout",
     "output_type": "stream",
     "text": [
      "{'k301_1': 0.9588667145769589, 'k301_2': 0.5535741326012296, 'k302': 0.42026435658167877, 'k303': 126.74317525390597}\n"
     ]
    },
    {
     "data": {
      "image/png": "[encoded data removed]",
      "text/plain": [
       "<Figure size 432x288 with 1 Axes>"
      ]
     },
     "metadata": {
      "needs_background": "light"
     },
     "output_type": "display_data"
    }
   ],
   "source": [
    "\n",
    "\n",
    "Mg_M = model.reset(inferred_params_model)\n",
    "# inferred_params_model['k301'] = .001\n",
    "\n",
    "results = Mg_M.simulate(0,15,selections=['TIME','Mg','IKK','NFKB', 'pIKK', 'TAK1'])\n",
    "# plot(results,'Mg')\n",
    "plot(results,'pIKK')\n",
    "# plot(results,'NFKB')\n"
   ]
  },
  {
   "cell_type": "code",
   "execution_count": 3,
   "metadata": {},
   "outputs": [
    {
     "data": {
      "image/png": "[encoded data removed]",
      "text/plain": [
       "<Figure size 432x288 with 1 Axes>"
      ]
     },
     "metadata": {
      "needs_background": "light"
     },
     "output_type": "display_data"
    }
   ],
   "source": [
    "\n",
    "        "
   ]
  },
  {
   "cell_type": "code",
   "execution_count": 12,
   "metadata": {},
   "outputs": [
    {
     "name": "stdout",
     "output_type": "stream",
     "text": [
      "[consequent[L]]\n"
     ]
    },
    {
     "ename": "SystemExit",
     "evalue": "2",
     "output_type": "error",
     "traceback": [
      "An exception has occurred, use %tb to see the full traceback.\n",
      "\u001b[0;31mSystemExit\u001b[0m\u001b[0;31m:\u001b[0m 2\n"
     ]
    }
   ],
   "source": [
    "from skfuzzy import control as ctrl\n",
    "from pympler import muppy,tracker\n",
    "import skfuzzy as fuzz\n",
    "import numpy as np\n",
    "import sys\n",
    "\n",
    "\n",
    "def fuc():\n",
    "\trange_value = np.arange(0, 1, .01)\n",
    "\tconsequent = ctrl.Consequent(range_value, 'consequent')\n",
    "\tconsequent['L']=fuzz.gaussmf(range_value, .5, .05)\n",
    "\n",
    "\tantecedent = ctrl.Antecedent(range_value, 'antecedent')\n",
    "\tantecedent['M']=fuzz.gaussmf(range_value, .5, .05)\n",
    "\trule1 = ctrl.Rule(antecedent['M'] , consequent['L'])\n",
    "    rule1.consequent\n",
    "# \tprint(rule1.consequent)\n",
    "# \tsys.exit(2)\n",
    "\t# ctrl.ControlSystem([rule1])\n",
    "tr = tracker.SummaryTracker()\n",
    "for i in range(100000):\n",
    "    fuc()\n",
    "    if i%500==0:\n",
    "        print('Iteration ',i)\n",
    "        tr.print_diff() \n"
   ]
  },
  {
   "cell_type": "code",
   "execution_count": 10,
   "metadata": {},
   "outputs": [
    {
     "name": "stdout",
     "output_type": "stream",
     "text": [
      "IF antecedent[M] THEN consequent[L]\n",
      "\tAND aggregation function : fmin\n",
      "\tOR aggregation function  : fmax\n"
     ]
    },
    {
     "ename": "SystemExit",
     "evalue": "2",
     "output_type": "error",
     "traceback": [
      "An exception has occurred, use %tb to see the full traceback.\n",
      "\u001b[0;31mSystemExit\u001b[0m\u001b[0;31m:\u001b[0m 2\n"
     ]
    }
   ],
   "source": [
    "\n"
   ]
  }
 ],
 "metadata": {
  "kernelspec": {
   "display_name": "Python [conda env:v37_conda] *",
   "language": "python",
   "name": "conda-env-v37_conda-py"
  },
  "language_info": {
   "codemirror_mode": {
    "name": "ipython",
    "version": 3
   },
   "file_extension": ".py",
   "mimetype": "text/x-python",
   "name": "python",
   "nbconvert_exporter": "python",
   "pygments_lexer": "ipython3",
   "version": "3.7.9"
  }
 },
 "nbformat": 4,
 "nbformat_minor": 4
}
