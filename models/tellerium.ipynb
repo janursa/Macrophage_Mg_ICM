{
  "cells": [
    {
      "cell_type": "code",
      "source": [
        "// Created by libAntimony v2.9.4\n",
        "model *Mg_model()\n",
        "\n",
        "  // Compartments and Species:\n",
        "  compartment comp1;\n",
        "  species $Mg_e in comp1, Mg_f in comp1, TRPM in comp1, ATP in comp1, Mg_ATP in comp1;\n",
        "  species $Mg in comp1, Mg_IM in comp1, nTRPM in comp1, $cons in comp1, $ATP_prod in comp1;\n",
        "  species $TRPM_prod in comp1, Mg_0 in comp1, $Mg_n in comp1, $Mg_f_n in comp1;\n",
        "  species Mg_f_0 in comp1, $IM in comp1, M7CK in comp1, nM7CK in comp1, $deg in comp1;\n",
        "  species $H3S10 in comp1, pH3S10 in comp1, $Mg_IM_n in comp1, $Mg_ATP_n in comp1;\n",
        "  species Mg_f_1 in comp1, pH3S10_0 in comp1;\n",
        "\n",
        "  // Assignment Rules:\n",
        "  Mg := Mg_f + Mg_ATP + Mg_IM;\n",
        "  Mg_n := Mg/Mg_0;\n",
        "  Mg_f_n := Mg_f/Mg_f_0;\n",
        "  Mg_IM_n := Mg_IM/Mg_IM_0;\n",
        "  Mg_ATP_n := Mg_ATP/Mg_ATP_0;\n",
        "  F_trpm_i := 1;\n",
        "  F_mg_i := Mg_0/Mg;\n",
        "\n",
        "  // Reactions:\n",
        "  Mg_transport: $Mg_e + TRPM => Mg_f + TRPM; k_m_i*Mg_e*(Mg_e > 0)*F_mg_i*F_trpm_i - k_m_e*Mg_f*(Mg_f > 0);\n",
        "  Mg_ATP_binding: Mg_f + ATP => Mg_ATP; k_matp_b*Mg_f^n_matp_b*(Mg_f > 0)*ATP*(ATP > 0) - k_matp_ub*Mg_ATP*(Mg_ATP > 0);\n",
        "  consumption: ATP => $cons; k_atp_c*ATP;\n",
        "  To_cytoplasm: nTRPM => TRPM; k_ntrpm_t*nTRPM^n_ntrpm_t;\n",
        "  prod_ATP: $ATP_prod + Mg_f => ATP + Mg_f; k_atp_p0 + k_atp_pm*Mg_f;\n",
        "  prod_TRPM: $TRPM_prod + Mg_ATP => nTRPM + Mg_ATP; k_ntrpm_p*TRPM_prod*(Mg_ATP/Mg_ATP_0)^n_ntrpm_p;\n",
        "  Membrane_binding: Mg_f + $IM -> Mg_IM; k_mim_b*Mg_f^n_mim_b*(Mg_f > 0)*IM*(IM > 0) - k_mim_ub*Mg_IM*(Mg_IM > 0);\n",
        "  TRPM_seg: TRPM => M7CK; k_trpm_s*TRPM;\n",
        "  M7CK_trans: M7CK -> nM7CK; k_m7ck_t1*M7CK^n_m7ck_t*(M7CK > 0) - k_m7ck_t2*nM7CK*(nM7CK > 0);\n",
        "  M7CK_deg: M7CK => $deg; k_m7ck_deg*M7CK;\n",
        "  H3S10_phos: $H3S10 + nM7CK -> pH3S10 + nM7CK; k_h3s10_p*H3S10*nM7CK^n_h3s10_p*(H3S10 > 0) - k_h3s10_up*pH3S10*(pH3S10 > 0);\n",
        "\n",
        "  // Species initializations:\n",
        "  Mg_e = 0.5;\n",
        "  Mg_f = 0.5;\n",
        "  TRPM = 1;\n",
        "  ATP = 16;\n",
        "  Mg_ATP = 9;\n",
        "  Mg_IM = 9;\n",
        "  nTRPM = 1;\n",
        "  cons = 0;\n",
        "  ATP_prod = 1;\n",
        "  TRPM_prod = 1;\n",
        "  Mg_0 = Mg_f + Mg_ATP + Mg_IM;\n",
        "  Mg_f_0 = Mg_f;\n",
        "  IM = 88.6098019188817;\n",
        "  M7CK = 1;\n",
        "  nM7CK = 1;\n",
        "  deg = 0;\n",
        "  H3S10 = 1;\n",
        "  pH3S10 = 1;\n",
        "  Mg_f_1 = 0.5;\n",
        "  pH3S10_0 = pH3S10;\n",
        "\n",
        "  // Compartment initializations:\n",
        "  comp1 = 1;\n",
        "\n",
        "  // Variable initializations:\n",
        "  Mg_IM_0 = Mg_IM;\n",
        "  Mg_ATP_0 = Mg_ATP;\n",
        "  k_m_i = 0.253776534576068;\n",
        "  k_m_e = 0.254913019137651;\n",
        "  k_atp_p0 = 9.8145812614764;\n",
        "  k_matp_ub = 0.946273074586713;\n",
        "  k_matp_b = 0.585768202994205;\n",
        "  k_atp_c = 0.62216362042029;\n",
        "  k_atp_pm = 2.33233672318613;\n",
        "  k_mim_b = 0.953161212634347;\n",
        "  k_mim_ub = 0.0392496809418786;\n",
        "  n_matp_b = 0.0211040228587016;\n",
        "  n_mim_b = 8.19693224705306;\n",
        "  k_ntrpm_p = 0.11;\n",
        "  k_ntrpm_t = 0.96;\n",
        "  k_trpm_s = 0.955;\n",
        "  k_m7ck_t1 = 0.83;\n",
        "  k_m7ck_t2 = 0.96;\n",
        "  k_m7ck_deg = 0.89;\n",
        "  k_h3s10_p = 0.0008;\n",
        "  k_h3s10_up = 0.0007;\n",
        "  k_ntrpm_d = 0.1;\n",
        "  n_ntrpm_t = 0.516;\n",
        "  n_m7ck_t = 1.9;\n",
        "  n_ntrpm_p = 12.22;\n",
        "  n_h3s10_p = 0.8;\n",
        "\n",
        "  // Other declarations:\n",
        "  var comp1, F_trpm_i, F_mg_i;\n",
        "  const Mg_IM_0, Mg_ATP_0, k_m_i, k_m_e, k_atp_p0, k_matp_ub, k_matp_b, k_atp_c;\n",
        "  const k_atp_pm, k_mim_b, k_mim_ub, n_matp_b, n_mim_b, k_ntrpm_p, k_ntrpm_t;\n",
        "  const k_trpm_s, k_m7ck_t1, k_m7ck_t2, k_m7ck_deg, k_h3s10_p, k_h3s10_up;\n",
        "  const k_ntrpm_d, n_ntrpm_t, n_m7ck_t, n_ntrpm_p, n_h3s10_p;\n",
        "\n",
        "  // Display Names:\n",
        "  Mg_transport is \"Mg transport\";\n",
        "  Mg_ATP_binding is \"Mg/ATP binding\";\n",
        "  To_cytoplasm is \"To cytoplasm\";\n",
        "  prod_ATP is \"prod ATP\";\n",
        "  prod_TRPM is \"prod TRPM\";\n",
        "  Membrane_binding is \"Membrane binding\";\n",
        "  TRPM_seg is \"TRPM seg\";\n",
        "  M7CK_trans is \"M7CK trans\";\n",
        "  M7CK_deg is \"M7CK deg\";\n",
        "  H3S10_phos is \"H3S10 phos\";\n",
        "end"
      ],
      "outputs": [
        {
          "output_type": "stream",
          "name": "stdout",
          "text": [
            "Success: Model can be accessed via variable Mg_model\n"
          ]
        }
      ],
      "execution_count": 5,
      "metadata": {
        "collapsed": false,
        "outputHidden": false,
        "inputHidden": false,
        "tellurium": {
          "te_cell_type": "antimony"
        }
      }
    },
    {
      "cell_type": "code",
      "source": [
        "###----Mg model-----###\n",
        "%load_ext autoreload\n",
        "%autoreload\n",
        "import tellurium as te\n",
        "import sys\n",
        "sys.path.insert(0,'/Users/matin/Downloads/testProjs/intracellular_M')\n",
        "from tools import dirs\n",
        "Mg_model.exportToSBML(dirs.dir_M1_model)"
      ],
      "outputs": [
        {
          "output_type": "stream",
          "name": "stdout",
          "text": [
            "The autoreload extension is already loaded. To reload it, use:\n",
            "  %reload_ext autoreload\n"
          ]
        }
      ],
      "execution_count": 7,
      "metadata": {
        "collapsed": false,
        "outputHidden": false,
        "inputHidden": false
      }
    },
    {
      "cell_type": "code",
      "source": [
        "// IL8 model\n",
        "import \"Zhao_sbml.xml\";\n",
        "model *IL8_model()\n",
        "    PP: model_Zhao();    \n",
        "    \n",
        "    // surragate variables\n",
        "    IKB is PP.IKB;\n",
        "    NFKB is PP.NFKB;\n",
        "    NFKB_n is PP.NFKB_n;\n",
        "    IFNGR is PP.IFNGR;\n",
        "    IL4R is PP.IL4R;\n",
        "    IL1b is PP.IL1b;\n",
        "    IL10 is PP.IL10;\n",
        "    IRAK4 is PP.IRAK4;\n",
        "    aTRAF6 is PP.aTRAF6;\n",
        "    \n",
        "    \n",
        "    // adjustments to zhao's model:\n",
        "    ### IL8 upregulates IRAK recruitment/production ###\n",
        "    PP.v246: $PP.irak4_prod + PP.m93 => PP.IRAK4 + PP.m93; PP.k246*PP.irak4_prod*(1 - PP.m93/(PP.m93 + PP.ka246))* F_il8_irak;\n",
        "    ### IL8 upregulates IFNGR production ###\n",
        "    PP.v80: $PP.IFNGR_prod + IL8_R => PP.IFNGR + IL8_R; PP.k80*PP.IFNGR_prod*F_il8_ifngr ;\n",
        "    ### IL8 downregulates IL4R production ###\n",
        "    PP.v119: $PP.il4r_prod + PP.pSTAT3D_n + IL8_R => PP.IL4R + PP.pSTAT3D_n + IL8_R; PP.k119*PP.il4r_prod*(0.05 + PP.pSTAT3D_n/(PP.pSTAT3D_n + PP.ka119))*F_il8_il4p;    \n",
        "    \n",
        "    // new reactions\n",
        "    ### IL8 receptor production and degradation ###\n",
        "    v1: $IL8R_prod -> IL8R; k_il8r_p;\n",
        "    v2: IL8R -> deg; k_il8r_d*IL8R;\n",
        "    ### IL8/IL8R binding ###\n",
        "    v3: $IL8 + IL8R -> IL8_R; k_il8_b*IL8*IL8R - k_il8_ub*IL8_R;\n",
        "    v4: $IL8_prod -> IL8; k_il8_p;\n",
        "    v5: IL8 -> deg; k_il8_d*IL8;\n",
        "    \n",
        "    // Variables:\n",
        "    IL8_prod = 1;\n",
        "    IL8 = 1; # pg/ml\n",
        "    IL8_0 = 0;\n",
        "    k_il8_p = 0.1;\n",
        "    kd_il8_p1 = 1;\n",
        "    n_il8_p1 = 1;\n",
        "    k_il8_d = 0.1;\n",
        "    \n",
        "    IL8R = 1;\n",
        "    IL8R_0 = 0;\n",
        "    IL8_R = 1;\n",
        "    IL8_R_0 = 0;\n",
        "    k_il8_b = .1;\n",
        "    k_il8_ub = .1;\n",
        "    k_il8r_p = .1;\n",
        "    k_il8r_d = .1;\n",
        "    kd_ifngr_p1 = 1; \n",
        "    n_ifngr_p1 = 1;\n",
        "    IFNGR_0 = 0;\n",
        "    IL4R_0 = 0;\n",
        "    kd_il4r_p1 = 1;\n",
        "    n_il4r_p1 = 1;\n",
        "    kd_irak_p = 1;\n",
        "    n_irak_p = 1;\n",
        "    \n",
        "    IL1b_0 = 0;\n",
        "    IL10_0 = 0;\n",
        "    IRAK4_0 = 0;\n",
        "    aTRAF6_0 = 0;\n",
        "    NFKB_n_0 = 0;\n",
        "    at (time > 0): IFNGR_0 = IFNGR;\n",
        "    at (time > 0): IL4R_0 = IL4R;\n",
        "    at (time > 0): IL8R_0 = IL8R;\n",
        "    at (time > 0): IL8_R_0 = IL8_R;\n",
        "    at (time > 0): IL8_0 = IL8;\n",
        "    at (time > 0): IL1b_0 = IL1b;\n",
        "    at (time > 0): IL10_0 = IL10;\n",
        "    at (time > 0): IRAK4_0 = IRAK4;\n",
        "    at (time > 0): aTRAF6_0 = aTRAF6; \n",
        "    at (time > 0): NFKB_n_0 = NFKB_n;\n",
        "    \n",
        "    // assignements\n",
        "    nIL8 := IL8/IL8_0;\n",
        "    nIL8R := IL8R/IL8R_0;\n",
        "    nIFNGR := IFNGR/IFNGR_0;\n",
        "    nIL4R := IL4R/IL4R_0;\n",
        "    nIL1b := IL1b/IL1b_0;\n",
        "    nIL10 := IL10/IL10_0;\n",
        "    nIRAK4 := IRAK4/IRAK4_0;\n",
        "    naTRAF6 := aTRAF6/aTRAF6_0;\n",
        "    nNFKB_n := NFKB_n/NFKB_n_0;\n",
        "    F_il8_irak := ((IL8_R+kd_irak_p)/(IL8_R_0+kd_irak_p))^n_irak_p;\n",
        "    F_il8_ifngr := ((IL8_R+kd_ifngr_p1)/(IL8_R_0+kd_ifngr_p1))^n_ifngr_p1\n",
        "    F_il8_il4p := ((IL8_R_0+kd_il4r_p1)/(IL8_R+kd_il4r_p1))^n_il4r_p1\n",
        "\n",
        "    \n",
        "end"
      ],
      "outputs": [
        {
          "output_type": "stream",
          "name": "stdout",
          "text": [
            "Success: Model can be accessed via variable IL8_model\n"
          ]
        }
      ],
      "execution_count": 5,
      "metadata": {
        "collapsed": false,
        "outputHidden": false,
        "inputHidden": false,
        "tellurium": {
          "te_cell_type": "antimony"
        }
      }
    },
    {
      "cell_type": "code",
      "source": [
        "###----IL8 model-----###\n",
        "%load_ext autoreload\n",
        "%autoreload\n",
        "import tellurium as te\n",
        "import sys\n",
        "sys.path.insert(0,'/Users/matin/Downloads/testProjs/intracellular_M')\n",
        "from tools import dirs\n",
        "from tools import tools\n",
        "Zhao_model = te.loadSBMLModel(dirs.dir_Zhao_model)\n",
        "species_IDs = Zhao_model.getFloatingSpeciesIds()\n",
        "IL8_model_m = tools.assign_surrogate_names(IL8_model,species_IDs)\n",
        "IL8_model_m.exportToSBML(dirs.dir_IL8_model)\n"
      ],
      "outputs": [
        {
          "output_type": "stream",
          "name": "stdout",
          "text": [
            "The autoreload extension is already loaded. To reload it, use:\n",
            "  %reload_ext autoreload\n"
          ]
        }
      ],
      "execution_count": 6,
      "metadata": {
        "collapsed": false,
        "outputHidden": false,
        "inputHidden": false
      }
    },
    {
      "cell_type": "code",
      "source": [
        "// combined model\n",
        "import \"M1_sbml.xml\";\n",
        "import \"IL8_sbml.xml\";\n",
        "model *combined()\n",
        "    M1: Mg_model();\n",
        "    PP: IL8_model();    \n",
        "    \n",
        "    // surragate variables\n",
        "    Mg_f_0 is M1.Mg_f_0;\n",
        "    Mg_f is M1.Mg_f;\n",
        "    Mg_e is M1.Mg_e;\n",
        "    IKB is PP.IKB;\n",
        "    NFKB is PP.NFKB;\n",
        "    IFNGR is PP.IFNGR;\n",
        "    IL4R is PP.IL4R;\n",
        "    \n",
        "    // adjustments to previous model:\n",
        "    ### Mg downregulate IKB degradation ###\n",
        "    PP.v226: PP.IKB => deg; PP.k226*PP.IKB* F_mg_ikb_d;\n",
        "    ### Mg pH3S10 upregulates IKB production ###\n",
        "    PP.v221: $PP.Ikb_prod + PP.NFKB_n => PP.IKB + PP.NFKB_n; PP.k221*PP.Ikb_prod*PP.NFKB_n*F_h3s10_ikb;    \n",
        "    ### IL8 production is regulated by pH3S10\n",
        "    $IL8_prod -> IL8; PP.k_il8_p*((M1.pH3S10+kd_il8_p1)/(M1.pH3S10_0+kd_il8_p1))^n_il8_p1;\n",
        "    // new reactions\n",
        "    \n",
        "    \n",
        "    // Variables:\n",
        "    kd_ikb_d = 88.948;\n",
        "    n_ikb_d = 23.43;    \n",
        "    kd_ikb_p = 1.207;\n",
        "    n_ikb_p = 29.52;\n",
        "    \n",
        "    \n",
        "    kd_il8_p1 = 1;\n",
        "    n_il8_p1 = 1;\n",
        "    k_il8_d = 0.1;\n",
        "    \n",
        "    \n",
        "    // assignements\n",
        "    F_mg_ikb_d := ((Mg_f_0+kd_ikb_d)/(Mg_f+kd_ikb_d))^n_ikb_d;\n",
        "    F_h3s10_ikb := ((M1.pH3S10+kd_ikb_p)/(M1.pH3S10_0+kd_ikb_p))^n_ikb_p\n",
        "    \n",
        "end"
      ],
      "outputs": [
        {
          "output_type": "error",
          "ename": "RuntimeError",
          "evalue": "Errors encountered when trying to load model into Antimony:\nError in model string, line 19:  'v226' is not a subvariable of 'PP'.",
          "traceback": [
            "\u001b[0;31m---------------------------------------------------------------------------\u001b[0m",
            "\u001b[0;31mRuntimeError\u001b[0m                              Traceback (most recent call last)",
            "\u001b[0;32m<ipython-input-27-bac7ed35e5c4>\u001b[0m in \u001b[0;36m<module>\u001b[0;34m()\u001b[0m\n\u001b[0;32m----> 1\u001b[0;31m \u001b[0mget_ipython\u001b[0m\u001b[0;34m(\u001b[0m\u001b[0;34m)\u001b[0m\u001b[0;34m.\u001b[0m\u001b[0mrun_cell_magic\u001b[0m\u001b[0;34m(\u001b[0m\u001b[0;34m'crn'\u001b[0m\u001b[0;34m,\u001b[0m \u001b[0;34m''\u001b[0m\u001b[0;34m,\u001b[0m \u001b[0;34m'// combined model\\nimport \"M1_sbml.xml\";\\nimport \"IL8_sbml.xml\";\\nmodel *combined()\\n    M1: Mg_model();\\n    PP: IL8_model();    \\n    \\n    // surragate variables\\n    Mg_f_0 is M1.Mg_f_0;\\n    Mg_f is M1.Mg_f;\\n    Mg_e is M1.Mg_e;\\n    IKB is PP.IKB;\\n    NFKB is PP.NFKB;\\n    IFNGR is PP.IFNGR;\\n    IL4R is PP.IL4R;\\n    \\n    // adjustments to previous model:\\n    ### Mg downregulate IKB degradation ###\\n    PP.v226: PP.IKB => deg; PP.k226*PP.IKB* F_mg_ikb_d;\\n    ### Mg pH3S10 upregulates IKB production ###\\n    PP.v221: $PP.Ikb_prod + PP.NFKB_n => PP.IKB + PP.NFKB_n; PP.k221*PP.Ikb_prod*PP.NFKB_n*F_h3s10_ikb;    \\n    ### IL8 production is regulated by pH3S10\\n    $IL8_prod -> IL8; PP.k_il8_p*((M1.pH3S10+kd_il8_p1)/(M1.pH3S10_0+kd_il8_p1))^n_il8_p1;\\n    // new reactions\\n    \\n    \\n    // Variables:\\n    kd_ikb_d = 88.948;\\n    n_ikb_d = 23.43;    \\n    kd_ikb_p = 1.207;\\n    n_ikb_p = 29.52;\\n    \\n    \\n    kd_il8_p1 = 1;\\n    n_il8_p1 = 1;\\n    k_il8_d = 0.1;\\n    \\n    \\n    // assignements\\n    F_mg_ikb_d := ((Mg_f_0+kd_ikb_d)/(Mg_f+kd_ikb_d))^n_ikb_d;\\n    F_h3s10_ikb := ((M1.pH3S10+kd_ikb_p)/(M1.pH3S10_0+kd_ikb_p))^n_ikb_p\\n    \\nend'\u001b[0m\u001b[0;34m)\u001b[0m\u001b[0;34m\u001b[0m\u001b[0m\n\u001b[0m",
            "\u001b[0;32m~/Library/Application Support/Tellurium/telocal/python-3.6.3/lib/python3.6/site-packages/IPython/core/interactiveshell.py\u001b[0m in \u001b[0;36mrun_cell_magic\u001b[0;34m(self, magic_name, line, cell)\u001b[0m\n\u001b[1;32m   2129\u001b[0m             \u001b[0mmagic_arg_s\u001b[0m \u001b[0;34m=\u001b[0m \u001b[0mself\u001b[0m\u001b[0;34m.\u001b[0m\u001b[0mvar_expand\u001b[0m\u001b[0;34m(\u001b[0m\u001b[0mline\u001b[0m\u001b[0;34m,\u001b[0m \u001b[0mstack_depth\u001b[0m\u001b[0;34m)\u001b[0m\u001b[0;34m\u001b[0m\u001b[0m\n\u001b[1;32m   2130\u001b[0m             \u001b[0;32mwith\u001b[0m \u001b[0mself\u001b[0m\u001b[0;34m.\u001b[0m\u001b[0mbuiltin_trap\u001b[0m\u001b[0;34m:\u001b[0m\u001b[0;34m\u001b[0m\u001b[0m\n\u001b[0;32m-> 2131\u001b[0;31m                 \u001b[0mresult\u001b[0m \u001b[0;34m=\u001b[0m \u001b[0mfn\u001b[0m\u001b[0;34m(\u001b[0m\u001b[0mmagic_arg_s\u001b[0m\u001b[0;34m,\u001b[0m \u001b[0mcell\u001b[0m\u001b[0;34m)\u001b[0m\u001b[0;34m\u001b[0m\u001b[0m\n\u001b[0m\u001b[1;32m   2132\u001b[0m             \u001b[0;32mreturn\u001b[0m \u001b[0mresult\u001b[0m\u001b[0;34m\u001b[0m\u001b[0m\n\u001b[1;32m   2133\u001b[0m \u001b[0;34m\u001b[0m\u001b[0m\n",
            "\u001b[0;32m<decorator-gen-129>\u001b[0m in \u001b[0;36mcrn\u001b[0;34m(self, line, cell)\u001b[0m\n",
            "\u001b[0;32m~/Library/Application Support/Tellurium/telocal/python-3.6.3/lib/python3.6/site-packages/IPython/core/magic.py\u001b[0m in \u001b[0;36m<lambda>\u001b[0;34m(f, *a, **k)\u001b[0m\n\u001b[1;32m    185\u001b[0m     \u001b[0;31m# but it's overkill for just that one bit of state.\u001b[0m\u001b[0;34m\u001b[0m\u001b[0;34m\u001b[0m\u001b[0m\n\u001b[1;32m    186\u001b[0m     \u001b[0;32mdef\u001b[0m \u001b[0mmagic_deco\u001b[0m\u001b[0;34m(\u001b[0m\u001b[0marg\u001b[0m\u001b[0;34m)\u001b[0m\u001b[0;34m:\u001b[0m\u001b[0;34m\u001b[0m\u001b[0m\n\u001b[0;32m--> 187\u001b[0;31m         \u001b[0mcall\u001b[0m \u001b[0;34m=\u001b[0m \u001b[0;32mlambda\u001b[0m \u001b[0mf\u001b[0m\u001b[0;34m,\u001b[0m \u001b[0;34m*\u001b[0m\u001b[0ma\u001b[0m\u001b[0;34m,\u001b[0m \u001b[0;34m**\u001b[0m\u001b[0mk\u001b[0m\u001b[0;34m:\u001b[0m \u001b[0mf\u001b[0m\u001b[0;34m(\u001b[0m\u001b[0;34m*\u001b[0m\u001b[0ma\u001b[0m\u001b[0;34m,\u001b[0m \u001b[0;34m**\u001b[0m\u001b[0mk\u001b[0m\u001b[0;34m)\u001b[0m\u001b[0;34m\u001b[0m\u001b[0m\n\u001b[0m\u001b[1;32m    188\u001b[0m \u001b[0;34m\u001b[0m\u001b[0m\n\u001b[1;32m    189\u001b[0m         \u001b[0;32mif\u001b[0m \u001b[0mcallable\u001b[0m\u001b[0;34m(\u001b[0m\u001b[0marg\u001b[0m\u001b[0;34m)\u001b[0m\u001b[0;34m:\u001b[0m\u001b[0;34m\u001b[0m\u001b[0m\n",
            "\u001b[0;32m~/Library/Application Support/Tellurium/telocal/python-3.6.3/lib/python3.6/site-packages/temagics/magics.py\u001b[0m in \u001b[0;36mcrn\u001b[0;34m(self, line, cell)\u001b[0m\n\u001b[1;32m     40\u001b[0m \u001b[0;34m\u001b[0m\u001b[0m\n\u001b[1;32m     41\u001b[0m         \u001b[0;31m# convert cell content (Antimony) to raw SBML\u001b[0m\u001b[0;34m\u001b[0m\u001b[0;34m\u001b[0m\u001b[0m\n\u001b[0;32m---> 42\u001b[0;31m         \u001b[0mmodule\u001b[0m\u001b[0;34m,\u001b[0m\u001b[0msbml_str\u001b[0m \u001b[0;34m=\u001b[0m \u001b[0mantimonyConverter\u001b[0m\u001b[0;34m(\u001b[0m\u001b[0;34m)\u001b[0m\u001b[0;34m.\u001b[0m\u001b[0mantimonyToSBML\u001b[0m\u001b[0;34m(\u001b[0m\u001b[0mcell\u001b[0m\u001b[0;34m)\u001b[0m\u001b[0;34m\u001b[0m\u001b[0m\n\u001b[0m\u001b[1;32m     43\u001b[0m \u001b[0;34m\u001b[0m\u001b[0m\n\u001b[1;32m     44\u001b[0m         \u001b[0;31m# override name?\u001b[0m\u001b[0;34m\u001b[0m\u001b[0;34m\u001b[0m\u001b[0m\n",
            "\u001b[0;32m~/Library/Application Support/Tellurium/telocal/python-3.6.3/lib/python3.6/site-packages/tellurium/teconverters/convert_antimony.py\u001b[0m in \u001b[0;36mantimonyToSBML\u001b[0;34m(self, sb_str, SBO)\u001b[0m\n\u001b[1;32m     94\u001b[0m         \u001b[0;32mif\u001b[0m \u001b[0mself\u001b[0m\u001b[0;34m.\u001b[0m\u001b[0mcheckAntimonyReturnCode\u001b[0m\u001b[0;34m(\u001b[0m\u001b[0mcode\u001b[0m\u001b[0;34m)\u001b[0m\u001b[0;34m:\u001b[0m\u001b[0;34m\u001b[0m\u001b[0m\n\u001b[1;32m     95\u001b[0m             \u001b[0merrors\u001b[0m \u001b[0;34m=\u001b[0m \u001b[0msb\u001b[0m\u001b[0;34m.\u001b[0m\u001b[0mgetLastError\u001b[0m\u001b[0;34m(\u001b[0m\u001b[0;34m)\u001b[0m\u001b[0;34m\u001b[0m\u001b[0m\n\u001b[0;32m---> 96\u001b[0;31m             \u001b[0;32mraise\u001b[0m \u001b[0mRuntimeError\u001b[0m\u001b[0;34m(\u001b[0m\u001b[0;34m'Errors encountered when trying to load model into Antimony:\\n{}'\u001b[0m\u001b[0;34m.\u001b[0m\u001b[0mformat\u001b[0m\u001b[0;34m(\u001b[0m\u001b[0merrors\u001b[0m\u001b[0;34m)\u001b[0m\u001b[0;34m)\u001b[0m\u001b[0;34m\u001b[0m\u001b[0m\n\u001b[0m\u001b[1;32m     97\u001b[0m \u001b[0;34m\u001b[0m\u001b[0m\n\u001b[1;32m     98\u001b[0m         \u001b[0mmodule\u001b[0m \u001b[0;34m=\u001b[0m \u001b[0msb\u001b[0m\u001b[0;34m.\u001b[0m\u001b[0mgetMainModuleName\u001b[0m\u001b[0;34m(\u001b[0m\u001b[0;34m)\u001b[0m\u001b[0;34m\u001b[0m\u001b[0m\n",
            "\u001b[0;31mRuntimeError\u001b[0m: Errors encountered when trying to load model into Antimony:\nError in model string, line 19:  'v226' is not a subvariable of 'PP'."
          ]
        }
      ],
      "execution_count": 27,
      "metadata": {
        "collapsed": false,
        "outputHidden": false,
        "inputHidden": false,
        "tellurium": {
          "te_cell_type": "antimony"
        }
      }
    },
    {
      "cell_type": "code",
      "source": [
        "###----combined model-----###\n",
        "import tellurium as te\n",
        "import sys\n",
        "sys.path.insert(0,'/Users/matin/Downloads/testProjs/intracellular_M')\n",
        "from tools import dirs\n",
        "combined.exportToSBML(dirs.dir_model)  "
      ],
      "outputs": [],
      "execution_count": 83,
      "metadata": {
        "collapsed": false,
        "outputHidden": false,
        "inputHidden": false
      }
    }
  ],
  "metadata": {
    "kernelspec": {
      "name": "python3",
      "language": "python",
      "display_name": "Python 3 (built-in)"
    },
    "kernel_info": {
      "name": "python3"
    },
    "language_info": {
      "name": "python",
      "version": "3.6.3",
      "mimetype": "text/x-python",
      "codemirror_mode": {
        "name": "ipython",
        "version": 3
      },
      "pygments_lexer": "ipython3",
      "nbconvert_exporter": "python",
      "file_extension": ".py"
    }
  },
  "nbformat": 4,
  "nbformat_minor": 4
}