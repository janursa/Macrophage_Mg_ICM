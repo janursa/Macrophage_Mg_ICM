{
 "cells": [
  {
   "cell_type": "code",
   "execution_count": 1,
   "id": "c667633e",
   "metadata": {},
   "outputs": [],
   "source": [
    "main_dir = '/Users/matin/Downloads/testProjs/intracellular_M'\n",
    "import sys\n",
    "sys.path.insert(0,main_dir)\n",
    "import numpy as np\n",
    "import json\n",
    "import matplotlib.pyplot as plt\n",
    "import tellurium as te\n",
    "import os\n",
    "%load_ext autoreload\n",
    "%autoreload\n",
    "%matplotlib inline \n",
    "plt.rcParams[\"font.family\"] = \"serif\"\n",
    "plt.style.use('seaborn-deep')\n",
    "plt.rcParams[\"font.serif\"] = [\"Times New Roman\"] + plt.rcParams[\"font.serif\"]\n",
    "%config Completer.use_jedi = False\n",
    "showOriginalModelString = True\n"
   ]
  },
  {
   "cell_type": "code",
   "execution_count": 62,
   "id": "99c07ce2",
   "metadata": {
    "code_folding": []
   },
   "outputs": [
    {
     "name": "stdout",
     "output_type": "stream",
     "text": [
      "The autoreload extension is already loaded. To reload it, use:\n",
      "  %reload_ext autoreload\n",
      "{'kd_ikb_d': 0.006998739598721215, 'n_ikb_d': 98.03404045282424}\n",
      "t2m: 1 \n",
      "error is  0.16310069479223588\n",
      "P4 is plotting\n"
     ]
    }
   ],
   "source": [
    "###----sim vs obs-----###\n",
    "%load_ext autoreload\n",
    "%autoreload\n",
    "from data.observations import observations,t2m,select_obs\n",
    "from models.params import fixed_params\n",
    "from tools import dirs, tools\n",
    "from models.models import Macrophage\n",
    "params = {**fixed_params}\n",
    "if True: # apply inferred params\n",
    "    target_package = 'P4'\n",
    "    with open(os.path.join(dirs.dir_outputs,'inferred_params_{}.json'.format(target_package)),'r') as file:\n",
    "        inferred_params = json.load(file)\n",
    "    params = {**params,**inferred_params}\n",
    "    \n",
    "    \n",
    "print(params)\n",
    "print('t2m: {} '.format(t2m))\n",
    "flags = {\n",
    "    'P1_3': False,\n",
    "    'P4': True\n",
    "}\n",
    "for key,value in flags.items():\n",
    "    if key == 'P1_3' and value : \n",
    "        from plots import funcs\n",
    "        model_sbml = te.loadSBMLModel(dirs.dir_M1_model)\n",
    "        macrophage_obj = Macrophage(dir_model = dirs.dir_M1_model)\n",
    "        print('P1_3 is plotting')\n",
    "        funcs.P1_3_eq_plot(model_sbml=model_sbml,params=params,observations=observations)\n",
    "        funcs.P1_3_qualitative_plot (model_sbml=model_sbml,params=params,observations=observations)\n",
    "        funcs.P1_3_plot (model_sbml=model_sbml,model_macrophage=macrophage_obj,params=params,observations=observations)\n",
    "    elif key == 'P4' and value : \n",
    "        from plots import funcs \n",
    "        dir_model = dirs.dir_model\n",
    "        model_sbml = te.loadSBMLModel(dir_model)\n",
    "        studies = select_obs(studies = ['S12_IkBa_mg'])\n",
    "        macrophage_obj = Macrophage(dir_model = dir_model)\n",
    "        error = macrophage_obj.run(params = params, studies = studies)\n",
    "#         tools.run_model(model=model_sbml,duration=179,params=params,target_keys=['IKB'])\n",
    "#         model_sbml.plot()\n",
    "        print('error is ',error)\n",
    "        print('P4 is plotting')\n",
    "#         funcs.P4_plot(model_sbml=model_sbml,model_macrophage=macrophage_obj,params=params,observations=observations)"
   ]
  },
  {
   "cell_type": "code",
   "execution_count": null,
   "id": "2bbefa1a",
   "metadata": {},
   "outputs": [],
   "source": [
    "###-----plot observation-----###\n",
    "from data.observations import observations\n",
    "\n",
    "x = observations['R05_19']['measurement_scheme']['Mg_Mg_ATP']\n",
    "y1 = observations['R05_19']['Mg_19']['expectations']['Mg_Mg_ATP']['mean']\n",
    "# y2 = observations['eq_mg']['Mg_10']['expectations']['Mg']['mean']\n",
    "# y3 = observations['eq_mg']['Mg_20']['expectations']['Mg']['mean']\n",
    "plot(x=x,y=y1)"
   ]
  }
 ],
 "metadata": {
  "kernelspec": {
   "display_name": "Python [conda env:v37_conda] *",
   "language": "python",
   "name": "conda-env-v37_conda-py"
  },
  "language_info": {
   "codemirror_mode": {
    "name": "ipython",
    "version": 3
   },
   "file_extension": ".py",
   "mimetype": "text/x-python",
   "name": "python",
   "nbconvert_exporter": "python",
   "pygments_lexer": "ipython3",
   "version": "3.7.9"
  }
 },
 "nbformat": 4,
 "nbformat_minor": 5
}
