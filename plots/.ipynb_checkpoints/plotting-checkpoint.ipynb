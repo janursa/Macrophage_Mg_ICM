{
 "cells": [
  {
   "cell_type": "code",
   "execution_count": 2,
   "id": "c667633e",
   "metadata": {},
   "outputs": [
    {
     "name": "stdout",
     "output_type": "stream",
     "text": [
      "The autoreload extension is already loaded. To reload it, use:\n",
      "  %reload_ext autoreload\n"
     ]
    }
   ],
   "source": [
    "main_dir = '/Users/matin/Downloads/testProjs/intracellular_M'\n",
    "import sys\n",
    "sys.path.insert(0,main_dir)\n",
    "import numpy as np\n",
    "import json\n",
    "import matplotlib.pyplot as plt\n",
    "import tellurium as te\n",
    "import os\n",
    "%load_ext autoreload\n",
    "%autoreload\n",
    "%matplotlib inline \n",
    "plt.rcParams[\"font.family\"] = \"serif\"\n",
    "plt.style.use('seaborn-deep')\n",
    "plt.rcParams[\"font.serif\"] = [\"Times New Roman\"] + plt.rcParams[\"font.serif\"]\n",
    "%config Completer.use_jedi = False\n",
    "showOriginalModelString = True\n"
   ]
  },
  {
   "cell_type": "code",
   "execution_count": null,
   "id": "99c07ce2",
   "metadata": {
    "code_folding": [],
    "scrolled": true
   },
   "outputs": [],
   "source": [
    "###----sim vs obs-----###\n",
    "%load_ext autoreload\n",
    "%autoreload\n",
    "from data.observations import observations,t2m,select_obs\n",
    "from models.params import fixed_params\n",
    "from tools import dirs, tools\n",
    "from models.models import Macrophage\n",
    "from plots import funcs \n",
    "params = {**fixed_params}\n",
    "\n",
    "if True: # apply inferred params\n",
    "    target_package = 'P21'\n",
    "    with open(os.path.join(dirs.dir_outputs,'inferred_params_{}.json'.format(target_package)),'r') as file:\n",
    "        inferred_params = json.load(file)\n",
    "    params = {**params,**inferred_params}\n",
    "print(params)\n",
    "print('t2m: {} '.format(t2m))\n",
    "flags = {\n",
    "    'P1': False,\n",
    "    'P2': True,\n",
    "    'P3': True,\n",
    "    \n",
    "}\n",
    "for key,value in flags.items():\n",
    "    if key == 'P1' and value : \n",
    "        model_t = 'combined'\n",
    "        model_sbml = Macrophage.models[model_t]\n",
    "        macrophage_obj = Macrophage(model_t = model_t)\n",
    "        print('P1_3 is plotting')\n",
    "        funcs.P1_eq_plot(model_sbml=model_sbml,params=params,observations=observations)\n",
    "        funcs.P1_qualitative_plot (model_sbml=model_sbml,params=params,observations=observations)\n",
    "        fig = funcs.P1_plot (model_sbml=model_sbml,model_macrophage=macrophage_obj,params=params,observations=observations)\n",
    "    elif key == 'P2' and value : \n",
    "        model_t = 'combined'\n",
    "        model_sbml = Macrophage.models[model_t]\n",
    "        macrophage_obj = Macrophage(model_t = model_t)\n",
    "        print('P2 is plotting')\n",
    "        funcs.P21_plot(model_sbml=model_sbml,model_macrophage=macrophage_obj,params=params,observations=observations)\n",
    "        funcs.P22_plot(model_sbml=model_sbml,model_macrophage=macrophage_obj,params=params,observations=observations)\n",
    "    elif key == 'P3' and value : \n",
    "        model_t = 'combined'\n",
    "        model_sbml = Macrophage.models[model_t]\n",
    "        macrophage_obj = Macrophage(model_t = model_t)\n",
    "        print('P3 is plotting')\n",
    "        funcs.P3_plot(model_sbml=model_sbml,model_macrophage=macrophage_obj,params=params,observations=observations)\n"
   ]
  }
 ],
 "metadata": {
  "kernelspec": {
   "display_name": "Python [conda env:v37_conda] *",
   "language": "python",
   "name": "conda-env-v37_conda-py"
  },
  "language_info": {
   "codemirror_mode": {
    "name": "ipython",
    "version": 3
   },
   "file_extension": ".py",
   "mimetype": "text/x-python",
   "name": "python",
   "nbconvert_exporter": "python",
   "pygments_lexer": "ipython3",
   "version": "3.7.9"
  }
 },
 "nbformat": 4,
 "nbformat_minor": 5
}
