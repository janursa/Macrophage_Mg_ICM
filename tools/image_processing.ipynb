{
 "cells": [
  {
   "cell_type": "code",
   "execution_count": 8,
   "id": "ff55c95c",
   "metadata": {},
   "outputs": [
    {
     "name": "stdout",
     "output_type": "stream",
     "text": [
      "The autoreload extension is already loaded. To reload it, use:\n",
      "  %reload_ext autoreload\n"
     ]
    }
   ],
   "source": [
    "main_dir = '/Users/matin/Downloads/testProjs/intracellular_M'\n",
    "import sys\n",
    "sys.path.insert(0,main_dir)\n",
    "import numpy as np\n",
    "import json\n",
    "import os\n",
    "from PIL import Image\n",
    "import matplotlib.pyplot as plt\n",
    "from tools import dirs,tools\n",
    "%load_ext autoreload\n",
    "%autoreload 2\n",
    "%matplotlib inline \n",
    "plt.rcParams[\"font.family\"] = \"serif\"\n",
    "plt.style.use('seaborn-deep')\n",
    "plt.rcParams[\"font.serif\"] = [\"Times New Roman\"] + plt.rcParams[\"font.serif\"]\n",
    "%config Completer.use_jedi = False\n",
    "showOriginalModelString = True"
   ]
  },
  {
   "cell_type": "code",
   "execution_count": 5,
   "id": "53c5a915",
   "metadata": {},
   "outputs": [],
   "source": [
    "## converts pictures of gray scales to color intensity ###\n",
    "class pics_to_quantity:\n",
    "    @staticmethod\n",
    "    def RGB_2_grayscale(R,G,B,_):\n",
    "        return 0.2989*R + 0.5870*G + 0.1140*B \n",
    "    def __init__(self,pics):\n",
    "        self.pics = pics\n",
    "    def calculate(self):\n",
    "        _vectors = []\n",
    "        for pic_i in range(len(self.pics)):\n",
    "            im = Image.open(self.pics[pic_i])\n",
    "            im.convert('RGB')\n",
    "            px = im.load()\n",
    "            _size = im.size\n",
    "            _sum = 0\n",
    "            _vector = []\n",
    "            for ii in range(_size[0]):\n",
    "                for jj in range(_size[1]):\n",
    "                    i_px_v = pics_to_quantity.RGB_2_grayscale(*px[ii,jj])\n",
    "                    _vector.append(i_px_v)\n",
    "            _vectors.append(_vector)\n",
    "        nns = [len(vv) for vv in _vectors]\n",
    "        _max = max([max(vv) for vv in _vectors])\n",
    "        _vectors_r = [[_max-ii for ii in vv] for vv in _vectors]\n",
    "        _vectors_sum = [sum(vv) for vv in _vectors_r]\n",
    "        _vectors_n = [item/_vectors_sum[0] for item in _vectors_sum]\n",
    "        return _vectors_n\n"
   ]
  },
  {
   "cell_type": "code",
   "execution_count": 12,
   "id": "1f124c07",
   "metadata": {},
   "outputs": [
    {
     "name": "stdout",
     "output_type": "stream",
     "text": [
      "[1.0, 1.1739760995279287, 1.1706763254947332, 2.8631930532615133, 5.021263582727064]\n"
     ]
    }
   ],
   "source": [
    "## M05 NFKB##\n",
    "path_to_folder = os.path.join(dirs.main_dir,'data','M05','NFKB')\n",
    "pics = [\"1.png\",\"2.png\",\"3.png\",\"4.png\",\"5.png\"]\n",
    "for i in range(len(pics)):\n",
    "    pics [i] = os.path.join(path_to_folder,pics[i]) \n",
    "obj = pics_to_quantity(pics)\n",
    "values = obj.calculate()\n",
    "print(values)"
   ]
  },
  {
   "cell_type": "code",
   "execution_count": 13,
   "id": "dfd0f1fe",
   "metadata": {},
   "outputs": [
    {
     "name": "stdout",
     "output_type": "stream",
     "text": [
      "[1.0, 3.8959371173815307]\n"
     ]
    }
   ],
   "source": [
    "## M05 IRAK##\n",
    "path_to_folder = os.path.join(dirs.main_dir,'data','M05','IRAK')\n",
    "pics = [\"1.png\",\"2.png\"]\n",
    "for i in range(len(pics)):\n",
    "    pics [i] = os.path.join(path_to_folder,pics[i]) \n",
    "obj = pics_to_quantity(pics)\n",
    "values = obj.calculate()\n",
    "print(values)"
   ]
  },
  {
   "cell_type": "code",
   "execution_count": 14,
   "id": "e26894e4",
   "metadata": {},
   "outputs": [
    {
     "name": "stdout",
     "output_type": "stream",
     "text": [
      "[1.0, 2.587665050040648]\n"
     ]
    }
   ],
   "source": [
    "## M05 TRAF6##\n",
    "path_to_folder = os.path.join(dirs.main_dir,'data','M05','TRAF6')\n",
    "pics = [\"1.png\",\"2.png\"]\n",
    "for i in range(len(pics)):\n",
    "    pics [i] = os.path.join(path_to_folder,pics[i]) \n",
    "obj = pics_to_quantity(pics)\n",
    "values = obj.calculate()\n",
    "print(values)"
   ]
  }
 ],
 "metadata": {
  "kernelspec": {
   "display_name": "Python [conda env:v37_conda] *",
   "language": "python",
   "name": "conda-env-v37_conda-py"
  },
  "language_info": {
   "codemirror_mode": {
    "name": "ipython",
    "version": 3
   },
   "file_extension": ".py",
   "mimetype": "text/x-python",
   "name": "python",
   "nbconvert_exporter": "python",
   "pygments_lexer": "ipython3",
   "version": "3.7.9"
  }
 },
 "nbformat": 4,
 "nbformat_minor": 5
}
